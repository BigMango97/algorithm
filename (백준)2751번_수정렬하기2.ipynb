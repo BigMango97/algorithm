{
 "cells": [
  {
   "cell_type": "code",
   "execution_count": null,
   "id": "f39c41d3",
   "metadata": {},
   "outputs": [],
   "source": [
    "# 2751번 수 정렬하기2\n",
    "# 문제) N개의 수가 주어졌을 때, 이를 오름차순으로 정렬하는 프로그램을 작성하시오.\n",
    "# 입력) 첫째 줄에 수의 개수 N(1 ≤ N ≤ 1,000,000)이 주어진다. 둘째 줄부터 N개의 줄에는 수가 주어진다. \n",
    "#       이 수는 절댓값이 1,000,000보다 작거나 같은 정수이다. 수는 중복되지 않는다.\n",
    "# 출력) 첫째 줄부터 N개의 줄에 오름차순으로 정렬한 결과를 한 줄에 하나씩 출력한다.\n",
    "\n",
    "# N = int(sys.stdin.readline().strip())\n",
    "# a, b = map(int, sys.stdin.readline().split())\n",
    "import sys\n",
    "N=int(sys.stdin.readline().strip())\n",
    "n_list=[]\n",
    "for i in range(0,N):\n",
    "    a=int(sys.stdin.readline().strip())\n",
    "    n_list.append(a)\n",
    "a=sorted(n_list)\n",
    "for i in a:\n",
    "    print(i)"
   ]
  }
 ],
 "metadata": {
  "kernelspec": {
   "display_name": "Python 3 (ipykernel)",
   "language": "python",
   "name": "python3"
  },
  "language_info": {
   "codemirror_mode": {
    "name": "ipython",
    "version": 3
   },
   "file_extension": ".py",
   "mimetype": "text/x-python",
   "name": "python",
   "nbconvert_exporter": "python",
   "pygments_lexer": "ipython3",
   "version": "3.9.12"
  }
 },
 "nbformat": 4,
 "nbformat_minor": 5
}
