{
 "cells": [
  {
   "cell_type": "code",
   "execution_count": 5,
   "id": "7825d0ee",
   "metadata": {},
   "outputs": [
    {
     "name": "stdout",
     "output_type": "stream",
     "text": [
      "9991\n",
      "97\n",
      "103\n"
     ]
    }
   ],
   "source": [
    "# 11653번 소인수분해\n",
    "# 문제) 정수 N이 주어졌을 때, 소인수분해하는 프로그램을 작성하시오.\n",
    "# 입력) 첫째 줄에 정수 N (1 ≤ N ≤ 10,000,000)이 주어진다.\n",
    "# 출력) N의 소인수분해 결과를 한 줄에 하나씩 오름차순으로 출력한다. N이 1인 경우 아무것도 출력하지 않는다.\n",
    "N=int(input())\n",
    "def factorization(x):\n",
    "    d = 2\n",
    "    while d <= x:\n",
    "        if x % d == 0:\n",
    "            print(d)\n",
    "            x = x / d\n",
    "        else:\n",
    "            d = d + 1\n",
    "factorization(N)"
   ]
  }
 ],
 "metadata": {
  "kernelspec": {
   "display_name": "Python 3 (ipykernel)",
   "language": "python",
   "name": "python3"
  },
  "language_info": {
   "codemirror_mode": {
    "name": "ipython",
    "version": 3
   },
   "file_extension": ".py",
   "mimetype": "text/x-python",
   "name": "python",
   "nbconvert_exporter": "python",
   "pygments_lexer": "ipython3",
   "version": "3.9.12"
  }
 },
 "nbformat": 4,
 "nbformat_minor": 5
}
