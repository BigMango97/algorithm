{
 "cells": [
  {
   "cell_type": "code",
   "execution_count": 12,
   "id": "bc40e8c6",
   "metadata": {},
   "outputs": [
    {
     "name": "stdout",
     "output_type": "stream",
     "text": [
      "4\n",
      "1 2 3 4 5 6 7 8 9 1000\n",
      "338 304 619 95 343 496 489 116 98 127\n",
      "931 240 986 894 826 640 965 833 136 138\n",
      "940 955 364 188 133 254 501 122 768 408\n",
      "8\n",
      "489\n",
      "931\n",
      "768\n"
     ]
    }
   ],
   "source": [
    "# 2639번 N번째 큰 수\n",
    "# 문제) 배열 A가 주어졌을 때, N번째 큰 값을 출력하는 프로그램을 작성하시오. 배열 A의 크기는 항상 10이고, 자연수만 가지고 있다. N은 항상 3이다.\n",
    "# 입력) 첫째 줄에 테스트 케이스의 개수 T(1 ≤ T ≤ 1,000)가 주어진다. 각 테스트 케이스는 한 줄로 이루어져 있고, 배열 A의 원소 10개가 공백으로 구분되어 주어진다. 이 원소는 1보다 크거나 같고, 1,000보다 작거나 같은 자연수이다.\n",
    "# 출력) 각 테스트 케이스에 대해 한 줄에 하나씩 배열 A에서 3번째 큰 값을 출력한다.\n",
    "T=int(input())\n",
    "new_list=[]\n",
    "for i in range(0,T):\n",
    "    N=list(map(int,input().split()))\n",
    "    N.sort(reverse=True)\n",
    "    a=N[2]\n",
    "    new_list.append(a)\n",
    "for i in new_list:\n",
    "    print(i)"
   ]
  }
 ],
 "metadata": {
  "kernelspec": {
   "display_name": "Python 3 (ipykernel)",
   "language": "python",
   "name": "python3"
  },
  "language_info": {
   "codemirror_mode": {
    "name": "ipython",
    "version": 3
   },
   "file_extension": ".py",
   "mimetype": "text/x-python",
   "name": "python",
   "nbconvert_exporter": "python",
   "pygments_lexer": "ipython3",
   "version": "3.9.12"
  }
 },
 "nbformat": 4,
 "nbformat_minor": 5
}
