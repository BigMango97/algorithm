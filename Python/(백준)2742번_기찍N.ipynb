{
 "cells": [
  {
   "cell_type": "code",
   "execution_count": 27,
   "id": "87b64485",
   "metadata": {},
   "outputs": [
    {
     "name": "stdout",
     "output_type": "stream",
     "text": [
      "5\n",
      "5\n",
      "4\n",
      "3\n",
      "2\n",
      "1\n"
     ]
    }
   ],
   "source": [
    "# 2742번 기찍N\n",
    "# 문제) 자연수 N이 주어졌을 때, N부터 1까지 한 줄에 하나씩 출력하는 프로그램을 작성하시오.\n",
    "# 입력) 첫째 줄에 100,000보다 작거나 같은 자연수 N이 주어진다.\n",
    "# 출력) 첫째 줄부터 N번째 줄 까지 차례대로 출력한다.\n",
    "N = int(input())\n",
    "for i in range(1,N+1):\n",
    "    N-=1\n",
    "    print(N+1)"
   ]
  },
  {
   "cell_type": "code",
   "execution_count": null,
   "id": "68af8546",
   "metadata": {},
   "outputs": [],
   "source": []
  }
 ],
 "metadata": {
  "kernelspec": {
   "display_name": "Python 3 (ipykernel)",
   "language": "python",
   "name": "python3"
  },
  "language_info": {
   "codemirror_mode": {
    "name": "ipython",
    "version": 3
   },
   "file_extension": ".py",
   "mimetype": "text/x-python",
   "name": "python",
   "nbconvert_exporter": "python",
   "pygments_lexer": "ipython3",
   "version": "3.9.12"
  }
 },
 "nbformat": 4,
 "nbformat_minor": 5
}
