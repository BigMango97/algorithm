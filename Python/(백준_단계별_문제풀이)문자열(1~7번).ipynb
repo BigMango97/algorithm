{
 "cells": [
  {
   "cell_type": "code",
   "execution_count": 3,
   "id": "c0d6e434",
   "metadata": {},
   "outputs": [
    {
     "name": "stdout",
     "output_type": "stream",
     "text": [
      "0\n",
      "48\n"
     ]
    }
   ],
   "source": [
    "# 1번 아스키코드\n",
    "# 11654\n",
    "# 문제) 알파벳 소문자, 대문자, 숫자 0-9중 하나가 주어졌을 때, 주어진 글자의 아스키 코드값을 출력하는 프로그램을 작성하시오.\n",
    "# 입력) 알파벳 소문자, 대문자, 숫자 0-9 중 하나가 첫째 줄에 주어진다.\n",
    "# 출력) 입력으로 주어진 글자의 아스키 코드 값을 출력한다.\n",
    "\n",
    "print(ord(input()))"
   ]
  },
  {
   "cell_type": "code",
   "execution_count": 25,
   "id": "6c083bbf",
   "metadata": {},
   "outputs": [
    {
     "name": "stdout",
     "output_type": "stream",
     "text": [
      "11\n",
      "10987654321\n",
      "46\n"
     ]
    }
   ],
   "source": [
    "# 2번 숫자의합\n",
    "# 11720\n",
    "# 문제) N개의 숫자가 공백 없이 쓰여있다. 이 숫자를 모두 합해서 출력하는 프로그램을 작성하시오.\n",
    "# 입력) 첫째 줄에 숫자의 개수 N (1 ≤ N ≤ 100)이 주어진다. 둘째 줄에 숫자 N개가 공백없이 주어진다.\n",
    "# 출력) 입력으로 주어진 숫자 N개의 합을 출력한다.\n",
    "N=int(input())\n",
    "A=input()\n",
    "map_num=list(map(int, A))\n",
    "total_num=0\n",
    "for i in range(0,len(map_num)):\n",
    "    total_num+=map_num[i]\n",
    "print(total_num)"
   ]
  },
  {
   "cell_type": "code",
   "execution_count": 55,
   "id": "d1a3651b",
   "metadata": {},
   "outputs": [
    {
     "name": "stdout",
     "output_type": "stream",
     "text": [
      "abc\n",
      "0\n",
      "1\n",
      "2\n",
      "-1\n",
      "-1\n",
      "-1\n",
      "-1\n",
      "-1\n",
      "-1\n",
      "-1\n",
      "-1\n",
      "-1\n",
      "-1\n",
      "-1\n",
      "-1\n",
      "-1\n",
      "-1\n",
      "-1\n",
      "-1\n",
      "-1\n",
      "-1\n",
      "-1\n",
      "-1\n",
      "-1\n",
      "-1\n",
      "-1\n"
     ]
    }
   ],
   "source": [
    "# 3번 알파벳찾기\n",
    "# 10809\n",
    "# 문제) 알파벳 소문자로만 이루어진 단어 S가 주어진다. 각각의 알파벳에 대해서,단어에 포함되어 있는 경우에는 \n",
    "#       처음 등장하는 위치를, 포함되어 있지 않은 경우에는 -1을 출력하는 프로그램을 작성하시오.\n",
    "# 입력) 첫째 줄에 단어 S가 주어진다. 단어의 길이는 100을 넘지 않으며, 알파벳 소문자로만 이루어져 있다\n",
    "# 출력) 각각의 알파벳에 대해서, a가 처음 등장하는 위치, b가 처음 등장하는 위치, ... z가 처음 등장하는 위치를 공백으로 구분해서 출력한다.\n",
    "#       만약, 어떤 알파벳이 단어에 포함되어 있지 않다면 -1을 출력한다. \n",
    "#       단어의 첫 번째 글자는 0번째 위치이고, 두 번째 글자는 1번째 위치이다.\n",
    "\n",
    "txt = input()\n",
    "list_num = 'abcdefghijklmnopqrstuvwxyz'\n",
    "for i in list_num:\n",
    "    print(txt.find(i))"
   ]
  },
  {
   "cell_type": "code",
   "execution_count": 194,
   "id": "9d1e91d1",
   "metadata": {},
   "outputs": [
    {
     "name": "stdout",
     "output_type": "stream",
     "text": [
      "2\n",
      "5 dfs\n",
      "dddddfffffsssss\n",
      "2 fd\n",
      "ffdd\n"
     ]
    }
   ],
   "source": [
    "# 4번 문자열 반복\n",
    "# 2675번\n",
    "# 문제) 문자열 S를 입력받은 후에, 각 문자를 R번 반복해 새 문자열 P를 만든 후 출력하는 프로그램을 작성하시오. 즉, 첫 번째 문자를 R번 반복하고, 두 번째 문자를 R번 반복하는 식으로 P를 만들면 된다. S에는 QR Code \"alphanumeric\" 문자만 들어있다.\n",
    "# 입력) 첫째 줄에 테스트 케이스의 개수 T(1 ≤ T ≤ 1,000)가 주어진다. 각 테스트 케이스는 반복 횟수 R(1 ≤ R ≤ 8), 문자열 S가 공백으로 구분되어 주어진다. S의 길이는 적어도 1이며, 20글자를 넘지 않는다. \n",
    "# 출력) 각 테스트 케이스에 대해 P를 출력한다.\n",
    "\n",
    "N=int(input())\n",
    "\n",
    "for i in range(0,N):\n",
    "    sum=[]\n",
    "    A,B = map(str,input().split())\n",
    "    for j in range(0,len(B)):\n",
    "        sum+=(B[j]*int(A))\n",
    "        s = \"\".join(sum)\n",
    "    print(s)"
   ]
  },
  {
   "cell_type": "code",
   "execution_count": 71,
   "id": "5542dc48",
   "metadata": {},
   "outputs": [
    {
     "name": "stdout",
     "output_type": "stream",
     "text": [
      "z\n",
      "Z\n"
     ]
    }
   ],
   "source": [
    "# 5번 단어 공부\n",
    "# 1157\n",
    "# 문제) 알파벳 대소문자로 된 단어가 주어지면, 이 단어에서 가장 많이 사용된 알파벳이 무엇인지 알아내는 프로그램을 작성하시오. 단, 대문자와 소문자를 구분하지 않는다.\n",
    "# 입력) 첫째 줄에 알파벳 대소문자로 이루어진 단어가 주어진다. 주어지는 단어의 길이는 1,000,000을 넘지 않는다.\n",
    "# 출력) 첫째 줄에 이 단어에서 가장 많이 사용된 알파벳을 대문자로 출력한다. 단, 가장 많이 사용된 알파벳이 여러 개 존재하는 경우에는 ?를 출력한다.\n",
    "from collections import Counter\n",
    "S =  list(input())\n",
    "s_list=list(S)\n",
    "listword = []\n",
    "for i in s_list:\n",
    "    listword.append(i.upper())\n",
    "count_items = Counter(listword)\n",
    "\n",
    "if len([k for k,v in count_items.items() if max(count_items.values()) == v])>=2:\n",
    "    print(\"?\")\n",
    "else :\n",
    "    max_items=max(count_items,key=count_items.get)\n",
    "    print(max_items)"
   ]
  },
  {
   "cell_type": "code",
   "execution_count": 40,
   "id": "f33402ca",
   "metadata": {},
   "outputs": [
    {
     "name": "stdout",
     "output_type": "stream",
     "text": [
      "The Curious Case of Benjamin Button\n",
      "6\n"
     ]
    }
   ],
   "source": [
    "# 6번 단어의 개수\n",
    "# 1152\n",
    "# 문제) 영어 대소문자와 공백으로 이루어진 문자열이 주어진다. 이 문자열에는 몇 개의 단어가 있을까? \n",
    "#       이를 구하는 프로그램을 작성하시오. 단, 한 단어가 여러 번 등장하면 등장한 횟수만큼 모두 세어야 한다.\n",
    "# 입력) 첫 줄에 영어 대소문자와 공백으로 이루어진 문자열이 주어진다. \n",
    "#       이 문자열의 길이는 1,000,000을 넘지 않는다. 단어는 공백 한 개로 구분되며, \n",
    "#       공백이 연속해서 나오는 경우는 없다. 또한 문자열은 공백으로 시작하거나 끝날 수 있다.\n",
    "# 출력) 첫째 줄에 단어의 개수를 출력한다.\n",
    "\n",
    "R = list(map(str,input().split()))\n",
    "print(len(R))"
   ]
  },
  {
   "cell_type": "code",
   "execution_count": 7,
   "id": "7ff1bb74",
   "metadata": {},
   "outputs": [
    {
     "name": "stdout",
     "output_type": "stream",
     "text": [
      "485 562\n",
      "584\n"
     ]
    }
   ],
   "source": [
    "# 7번 상수\n",
    "# 2908\n",
    "# 문제) 상근이의 동생 상수는 수학을 정말 못한다. 상수는 숫자를 읽는데 문제가 있다. \n",
    "#       이렇게 수학을 못하는 상수를 위해서 상근이는 수의 크기를 비교하는 문제를 내주었다. \n",
    "#       상근이는 세 자리 수 두 개를 칠판에 써주었다. 그 다음에 크기가 큰 수를 말해보라고 했다.\n",
    "#       상수는 수를 다른 사람과 다르게 거꾸로 읽는다. 예를 들어, 734와 893을 칠판에 적었다면, 상수는 이 수를 437과 398로 읽는다. 따라서, 상수는 두 수중 큰 수인 437을 큰 수라고 말할 것이다.\n",
    "#       두 수가 주어졌을 때, 상수의 대답을 출력하는 프로그램을 작성하시오.\n",
    "# 입력) 첫째 줄에 상근이가 칠판에 적은 두 수 A와 B가 주어진다. \n",
    "#       두 수는 같지 않은 세 자리 수이며, 0이 포함되어 있지 않다.\n",
    "# 출력) 첫째 줄에 상수의 대답을 출력한다.\n",
    "R, S = input().split()\n",
    "if R[::-1] > S[::-1]:\n",
    "    print(R[::-1])\n",
    "else :\n",
    "    print(S[::-1])"
   ]
  }
 ],
 "metadata": {
  "kernelspec": {
   "display_name": "Python 3.9.12 ('base')",
   "language": "python",
   "name": "python3"
  },
  "language_info": {
   "codemirror_mode": {
    "name": "ipython",
    "version": 3
   },
   "file_extension": ".py",
   "mimetype": "text/x-python",
   "name": "python",
   "nbconvert_exporter": "python",
   "pygments_lexer": "ipython3",
   "version": "3.9.12"
  },
  "vscode": {
   "interpreter": {
    "hash": "dbc2d860e59ffcf4c7e3321cdf91ed515b575f2741e55bcb74f1a255f2f51726"
   }
  }
 },
 "nbformat": 4,
 "nbformat_minor": 5
}
