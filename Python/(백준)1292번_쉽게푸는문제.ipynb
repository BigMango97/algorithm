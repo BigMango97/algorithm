{
 "cells": [
  {
   "cell_type": "code",
   "execution_count": 9,
   "id": "798e7ddb",
   "metadata": {},
   "outputs": [
    {
     "name": "stdout",
     "output_type": "stream",
     "text": [
      "3 7\n",
      "15\n"
     ]
    }
   ],
   "source": [
    "# 1292번 쉽게푸는문제\n",
    "# 문제) 동호는 내년에 초등학교를 입학한다. 그래서 동호 어머니는 수학 선행 학습을 위해 쉽게 푸는 문제를 동호에게 주었다.\n",
    "#       이 문제는 다음과 같다. 1을 한 번, 2를 두 번, 3을 세 번, 이런 식으로 1 2 2 3 3 3 4 4 4 4 5 .. \n",
    "#       이러한 수열을 만들고 어느 일정한 구간을 주면 그 구간의 합을 구하는 것이다.\n",
    "#       하지만 동호는 현재 더 어려운 문제를 푸느라 바쁘기에 우리가 동호를 도와주자.\n",
    "# 입력) 첫째 줄에 구간의 시작과 끝을 나타내는 정수 A, B(1 ≤ A ≤ B ≤ 1,000)가 주어진다. 즉, 수열에서 A번째 숫자부터 B번째 숫자까지 합을 구하면 된다. \n",
    "# 출력) 첫 줄에 구간에 속하는 숫자의 합을 출력한다.\n",
    "\n",
    "A,B=list(map(int,input().split()))\n",
    "\n",
    "new_list=[]\n",
    "for i in range(1,B+1):\n",
    "    for j in range(0,i):\n",
    "        new_list.append(i)\n",
    "\n",
    "total_sum=0\n",
    "for i in range(A-1,B):\n",
    "    total_sum+=new_list[i]\n",
    "print(total_sum)"
   ]
  }
 ],
 "metadata": {
  "kernelspec": {
   "display_name": "Python 3 (ipykernel)",
   "language": "python",
   "name": "python3"
  },
  "language_info": {
   "codemirror_mode": {
    "name": "ipython",
    "version": 3
   },
   "file_extension": ".py",
   "mimetype": "text/x-python",
   "name": "python",
   "nbconvert_exporter": "python",
   "pygments_lexer": "ipython3",
   "version": "3.9.12"
  }
 },
 "nbformat": 4,
 "nbformat_minor": 5
}
