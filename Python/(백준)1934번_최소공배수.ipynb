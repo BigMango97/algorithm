{
 "cells": [
  {
   "cell_type": "code",
   "execution_count": 79,
   "id": "527bff7b",
   "metadata": {
    "scrolled": true
   },
   "outputs": [
    {
     "name": "stdout",
     "output_type": "stream",
     "text": [
      "3\n",
      "1 45000\n",
      "45000\n",
      "6 10\n",
      "30\n",
      "13 17\n",
      "221\n"
     ]
    }
   ],
   "source": [
    "# 문제) 두 자연수 A와 B에 대해서, A의 배수이면서 B의 배수인 자연수를 A와 B의 공배수라고 한다. \n",
    "#       이런 공배수 중에서 가장 작은 수를 최소공배수라고 한다. \n",
    "#       예를 들어, 6과 15의 공배수는 30, 60, 90등이 있으며, 최소 공배수는 30이다.\n",
    "#       두 자연수 A와 B가 주어졌을 때, A와 B의 최소공배수를 구하는 프로그램을 작성하시오. \n",
    "# 입력) 첫째 줄에 테스트 케이스의 개수 T(1 ≤ T ≤ 1,000)가 주어진다. \n",
    "#       둘째 줄부터 T개의 줄에 걸쳐서 A와 B가 주어진다. (1 ≤ A, B ≤ 45,000)\n",
    "# 출력) 첫째 줄부터 T개의 줄에 A와 B의 최소공배수를 입력받은 순서대로 한 줄에 하나씩 출력한다.\n",
    "new_list=[]\n",
    "N = int(input())\n",
    "for i in range(0,N):\n",
    "    A,B=map(int,input().split())\n",
    "    for j in range(1,min(A,B)+1):\n",
    "        if (A%j==0) and (B%j==0):\n",
    "            new_list.append(j)\n",
    "            new1=A/new_list[-1]\n",
    "            new2=B/new_list[-1]\n",
    "    print(int(new1*new2*new_list[-1]))"
   ]
  }
 ],
 "metadata": {
  "kernelspec": {
   "display_name": "Python 3 (ipykernel)",
   "language": "python",
   "name": "python3"
  },
  "language_info": {
   "codemirror_mode": {
    "name": "ipython",
    "version": 3
   },
   "file_extension": ".py",
   "mimetype": "text/x-python",
   "name": "python",
   "nbconvert_exporter": "python",
   "pygments_lexer": "ipython3",
   "version": "3.9.12"
  }
 },
 "nbformat": 4,
 "nbformat_minor": 5
}
