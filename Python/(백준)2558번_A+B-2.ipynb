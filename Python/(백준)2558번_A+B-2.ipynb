{
 "cells": [
  {
   "cell_type": "code",
   "execution_count": 1,
   "id": "71b835ae",
   "metadata": {},
   "outputs": [
    {
     "name": "stdout",
     "output_type": "stream",
     "text": [
      "1\n",
      "2\n",
      "3\n"
     ]
    }
   ],
   "source": [
    "# 2558번 A+B-2\n",
    "# 문제) 두 정수 A와 B를 입력받은 다음, A+B를 출력하는 프로그램을 작성하시오.\n",
    "# 입력) 첫째 줄에 A, 둘째 줄에 B가 주어진다. (0 < A, B < 10)\n",
    "# 출력) 첫째 줄에 A+B를 출력한다.\n",
    "A=int(input())\n",
    "B=int(input())\n",
    "print(A+B)"
   ]
  },
  {
   "cell_type": "code",
   "execution_count": null,
   "id": "ae274d49",
   "metadata": {},
   "outputs": [],
   "source": []
  }
 ],
 "metadata": {
  "kernelspec": {
   "display_name": "Python 3 (ipykernel)",
   "language": "python",
   "name": "python3"
  },
  "language_info": {
   "codemirror_mode": {
    "name": "ipython",
    "version": 3
   },
   "file_extension": ".py",
   "mimetype": "text/x-python",
   "name": "python",
   "nbconvert_exporter": "python",
   "pygments_lexer": "ipython3",
   "version": "3.9.12"
  }
 },
 "nbformat": 4,
 "nbformat_minor": 5
}
