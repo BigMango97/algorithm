{
 "cells": [
  {
   "cell_type": "markdown",
   "id": "6e2f5783",
   "metadata": {},
   "source": [
    "# 그리드 알고리즘\n",
    "#### => 현재 상황에서 지금 당장 좋은 것만 고르는 방법"
   ]
  },
  {
   "cell_type": "markdown",
   "id": "0531e6e1",
   "metadata": {},
   "source": [
    "### 거스름돈\n",
    "#### 당신은 음식점의 계산을 도와주는 점원입니다. 카운터에는 거스름돈으로 사용할 500원100원, 50원,10원짜리 동전이 무한히 존재한다고 가정합니다. 손님에게 거슬러 주어야 할 돈이 N원일 때 거슬러 주어야 할 동전의 최소 개수를 구하세요. 단, 거슬러 줘야 할 돈 N은 항상 10의 배수입니다"
   ]
  },
  {
   "cell_type": "code",
   "execution_count": 2,
   "id": "92988b44",
   "metadata": {},
   "outputs": [
    {
     "name": "stdout",
     "output_type": "stream",
     "text": [
      "6\n"
     ]
    }
   ],
   "source": [
    "n=1260\n",
    "count=0\n",
    "\n",
    "# 큰 단위의 화폐부터 차례대로 확인하기\n",
    "array = [500,100,50,10]\n",
    "\n",
    "for coin in array:\n",
    "    count += n // coin\n",
    "    n %= coin\n",
    "print(count)"
   ]
  },
  {
   "cell_type": "markdown",
   "id": "9b56bdf0",
   "metadata": {},
   "source": [
    "### 곱하기 혹은 더하기 : 문제 해결 아이디어\n",
    "#### 두 수에 대하여 연산을 수행할 때, 두 수 중에서 하나라도 1이하인 경우에는 더하여, 두수가 모두 2이상인 경우에는 곱하면 정답이다."
   ]
  },
  {
   "cell_type": "code",
   "execution_count": 1,
   "id": "3c5e7168",
   "metadata": {},
   "outputs": [
    {
     "name": "stdout",
     "output_type": "stream",
     "text": [
      "1465\n",
      "150\n"
     ]
    }
   ],
   "source": [
    "data = input() # 1465\n",
    "\n",
    "# 첫번째 문자를 숫자로 변경하여 대입\n",
    "result = int(data[0]) #1 \n",
    "# 두번째 숫자부터 대입\n",
    "for i in range(1,len(data)): # 2번째 숫자부터 마지막까지\n",
    "    # 두 수 중에서 하나라도 '0' 또는 '1'인 경우, 곱하기보다는 더하기 수행\n",
    "    num = int(data[i]) #num 1번째값:4 , #num 2번째 값:6 , #num 3번째 값:5\n",
    "    if num <=1 or result <=1: # result=1,num=4 -> 첫번째 result=5\n",
    "        result+=num\n",
    "    else :                    # result2= 5,num=6 -> 두번째 result = 30\n",
    "        result *= num         # result3= 30,num=5 -> 두번째 result = 150\n",
    "print(result) # 150"
   ]
  },
  {
   "cell_type": "markdown",
   "id": "3411ff6c",
   "metadata": {},
   "source": [
    "### 모험가 길드 : 문제설명\n",
    "#### 한 마을에 모험가 N명 있습니다. 모험가 길드에서는 N명의 모험가를 대상으로 '공포도'를 측정했는데, '공포도'가 높은 모험가는 쉽게 공포를 느껴 위험 상황에서 제대로 대처할 능력이 떨어진다\n",
    "#### 모험가 길드장인 동빈이는 모험가 그룹을 안전하게 구성하고자 공포도가 X인 모험가는 반드시 X명 이상으로 구성한 모험가 그룹에 참여해야 여행을 떠날 수 있도록 규정했습니다.\n",
    "#### 동빈이는 최대 몇개의 모험가 그룹을 만들 수 있는지 궁금합니다. N명의 모험가에 대한 정보가 주어졌을때, 여행을 떠날 수 있는 그룹 수의 최댓값을 구하는 프로그램을 작성하세요"
   ]
  },
  {
   "cell_type": "code",
   "execution_count": 4,
   "id": "b702be7c",
   "metadata": {},
   "outputs": [],
   "source": [
    "# 입력조건 : 첫째 줄에 모험가의 수 N이 주어집니다(1<=N<=100000)\n",
    "# - 둘째 줄에 각 모험가의 공포도의 값 N이하의 자연수로 주어지며, 각 자연수는 공백으로 구분합니다.\n",
    "# 출력조건 : 여행을 떠날 수 있는 그룹 수의 최댓값을 출력합니다.\n",
    "\n",
    "# 입력 예시 : 5 / 2 3 1 2 2\n",
    "# 출력 예시 : 2 "
   ]
  },
  {
   "cell_type": "code",
   "execution_count": 7,
   "id": "7443c836",
   "metadata": {},
   "outputs": [
    {
     "name": "stdout",
     "output_type": "stream",
     "text": [
      "5\n",
      "1 2 1 1 1\n",
      "4\n"
     ]
    }
   ],
   "source": [
    "# 앞에서부터 공포도를 하나씩 확인하며 '현재 그룹에 포함된 모험가의 수'가 '현재 확인하고 있는 공포도'\n",
    "# 보다 크거나 같다면 이를 그룹으로 설정\n",
    "# 이러한 방법을 이용하면 공포도가 오름차순으로 정렬되어 있다는 점에서, 항상 최소한의 모험가의 수만을 포함하여 그룹을 결성하게 된다\n",
    "\n",
    "n=int(input())\n",
    "data = list(map(int,input().split()))\n",
    "data.sort()\n",
    "\n",
    "result = 0 # 총 그룹의 수\n",
    "count = 0 # 현재 그룹에 포함된 포험가의 수\n",
    "for i in data: #공포도가 낮은 것부터 하나씩 확인하여\n",
    "    count+=1 # 현재 그룹에 해당 모험가를 포함시키기\n",
    "    if count>=i: #현재 그룹에 포함된 모험가의 수가 편재의 공포도 이상이라면, 그룹 결성\n",
    "        result+=1 # 총 그룹의 수 증가시키기\n",
    "        count = 0 # 현재 그룹에 포함된 모험가의 수 초기화\n",
    "print(result) # 총 그룹의 수 출력"
   ]
  },
  {
   "cell_type": "code",
   "execution_count": null,
   "id": "860cc9ec",
   "metadata": {},
   "outputs": [],
   "source": []
  }
 ],
 "metadata": {
  "kernelspec": {
   "display_name": "Python 3 (ipykernel)",
   "language": "python",
   "name": "python3"
  },
  "language_info": {
   "codemirror_mode": {
    "name": "ipython",
    "version": 3
   },
   "file_extension": ".py",
   "mimetype": "text/x-python",
   "name": "python",
   "nbconvert_exporter": "python",
   "pygments_lexer": "ipython3",
   "version": "3.9.12"
  }
 },
 "nbformat": 4,
 "nbformat_minor": 5
}
