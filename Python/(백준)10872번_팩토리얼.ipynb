{
 "cells": [
  {
   "cell_type": "code",
   "execution_count": 9,
   "id": "a0bbed54",
   "metadata": {},
   "outputs": [
    {
     "name": "stdout",
     "output_type": "stream",
     "text": [
      "10\n",
      "3628800\n"
     ]
    }
   ],
   "source": [
    "# 10872번 팩토리얼\n",
    "# 문제) 0보다 크거나 같은 정수 N이 주어진다. 이때, N!을 출력하는 프로그램을 작성하시오.\n",
    "# 입력) 첫째 줄에 정수 N(0 ≤ N ≤ 12)이 주어진다.\n",
    "# 출력) 첫째 줄에 N!을 출력한다.\n",
    "\n",
    "N = int(input())\n",
    "number=1\n",
    "for i in range(0,N):\n",
    "    number+=number*i\n",
    "print(number)"
   ]
  },
  {
   "cell_type": "code",
   "execution_count": null,
   "id": "ac2d7b11",
   "metadata": {},
   "outputs": [],
   "source": []
  }
 ],
 "metadata": {
  "kernelspec": {
   "display_name": "Python 3 (ipykernel)",
   "language": "python",
   "name": "python3"
  },
  "language_info": {
   "codemirror_mode": {
    "name": "ipython",
    "version": 3
   },
   "file_extension": ".py",
   "mimetype": "text/x-python",
   "name": "python",
   "nbconvert_exporter": "python",
   "pygments_lexer": "ipython3",
   "version": "3.9.12"
  }
 },
 "nbformat": 4,
 "nbformat_minor": 5
}
