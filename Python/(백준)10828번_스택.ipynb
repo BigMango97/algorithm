{
 "cells": [
  {
   "cell_type": "code",
   "execution_count": 15,
   "id": "c4dd871f",
   "metadata": {},
   "outputs": [
    {
     "name": "stdout",
     "output_type": "stream",
     "text": [
      "7\n",
      "pop\n",
      "-1\n",
      "top\n",
      "-1\n",
      "push 123\n",
      "top\n",
      "123\n",
      "pop\n",
      "123\n",
      "top\n",
      "-1\n",
      "pop\n",
      "-1\n"
     ]
    }
   ],
   "source": [
    "# 10828번 스택\n",
    "# 문제) 정수를 저장하는 스택을 구현한 다음, 입력으로 주어지는 명령을 처리하는 프로그램을 작성하시오.\n",
    "#       명령은 총 다섯 가지이다.\n",
    "#       - push X: 정수 X를 스택에 넣는 연산이다.\n",
    "#       - pop: 스택에서 가장 위에 있는 정수를 빼고, 그 수를 출력한다. 만약 스택에 들어있는 정수가 없는 경우에는 -1을 출력한다.\n",
    "#       - size: 스택에 들어있는 정수의 개수를 출력한다.\n",
    "#       - empty: 스택이 비어있으면 1, 아니면 0을 출력한다.\n",
    "#       - top: 스택의 가장 위에 있는 정수를 출력한다. 만약 스택에 들어있는 정수가 없는 경우에는 -1을 출력한다.\n",
    "# 입력) 첫째 줄에 주어지는 명령의 수 N (1 ≤ N ≤ 10,000)이 주어진다. 둘째 줄부터 N개의 줄에는 명령이 하나씩 주어진다. \n",
    "#       주어지는 정수는 1보다 크거나 같고, 100,000보다 작거나 같다. 문제에 나와있지 않은 명령이 주어지는 경우는 없다.\n",
    "# 출력) 출력해야하는 명령이 주어질 때마다, 한 줄에 하나씩 출력한다.\n",
    "import sys\n",
    "N=int(sys.stdin.readline())\n",
    "stack=[]\n",
    "\n",
    "for i in range(0,N):\n",
    "    X = sys.stdin.readline().split()\n",
    "    if X[0]=='push':\n",
    "        stack.append(X[1])\n",
    "    elif X[0]=='pop':\n",
    "        if stack:\n",
    "            print(stack.pop())\n",
    "        else :\n",
    "            print(-1)\n",
    "    elif X[0]=='size':\n",
    "        print(len(stack))\n",
    "    elif X[0]=='empty':\n",
    "        if stack:\n",
    "            print(0)\n",
    "        else :\n",
    "            print(1)\n",
    "    elif X[0]=='top':\n",
    "        if stack:\n",
    "            print(stack[-1])\n",
    "        else :\n",
    "            print(-1)"
   ]
  }
 ],
 "metadata": {
  "kernelspec": {
   "display_name": "Python 3 (ipykernel)",
   "language": "python",
   "name": "python3"
  },
  "language_info": {
   "codemirror_mode": {
    "name": "ipython",
    "version": 3
   },
   "file_extension": ".py",
   "mimetype": "text/x-python",
   "name": "python",
   "nbconvert_exporter": "python",
   "pygments_lexer": "ipython3",
   "version": "3.9.12"
  }
 },
 "nbformat": 4,
 "nbformat_minor": 5
}
