{
 "cells": [
  {
   "cell_type": "code",
   "execution_count": 28,
   "id": "1c9b1b5a",
   "metadata": {},
   "outputs": [
    {
     "name": "stdout",
     "output_type": "stream",
     "text": [
      "5 2\n",
      "100 65 98 32 65\n",
      "98\n"
     ]
    }
   ],
   "source": [
    "# 25305번 커트라인\n",
    "# 문제) 2022 연세대학교 미래캠퍼스 슬기로운 코딩생활에 $N$명의 학생들이 응시했다.\n",
    "#       이들 중 점수가 가장 높은 k명은 상을 받을 것이다. 이 때, 상을 받는 커트라인이 몇 점인지 구하라.\n",
    "#       커트라인이란 상을 받는 사람들 중 점수가 가장 가장 낮은 사람의 점수를 말한다.\n",
    "# 입력) 첫째 줄에는 응시자의 수 $N$과 상을 받는 사람의 수 $k$가 공백을 사이에 두고 주어진다.\n",
    "#       둘째 줄에는 각 학생의 점수 $x$가 공백을 사이에 두고 주어진다.\n",
    "# 출력) 상을 받는 커트라인을 출력하라.\n",
    "A,B= map(int,input().split())\n",
    "a=list(map(int,input().split()))\n",
    "a_sort=sorted(a,reverse=True)\n",
    "print(a_sort[B-1])"
   ]
  },
  {
   "cell_type": "code",
   "execution_count": null,
   "id": "4e39534c",
   "metadata": {},
   "outputs": [],
   "source": []
  }
 ],
 "metadata": {
  "kernelspec": {
   "display_name": "Python 3 (ipykernel)",
   "language": "python",
   "name": "python3"
  },
  "language_info": {
   "codemirror_mode": {
    "name": "ipython",
    "version": 3
   },
   "file_extension": ".py",
   "mimetype": "text/x-python",
   "name": "python",
   "nbconvert_exporter": "python",
   "pygments_lexer": "ipython3",
   "version": "3.9.12"
  }
 },
 "nbformat": 4,
 "nbformat_minor": 5
}
