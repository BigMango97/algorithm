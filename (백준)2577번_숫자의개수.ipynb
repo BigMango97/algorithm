{
 "cells": [
  {
   "cell_type": "code",
   "execution_count": 60,
   "id": "44bed56f",
   "metadata": {},
   "outputs": [
    {
     "name": "stdout",
     "output_type": "stream",
     "text": [
      "150\n",
      "266\n",
      "427\n",
      "3\n",
      "1\n",
      "0\n",
      "2\n",
      "0\n",
      "0\n",
      "0\n",
      "2\n",
      "0\n",
      "0\n"
     ]
    }
   ],
   "source": [
    "# 2577번 숫자의 개수\n",
    "# 문제) 세 개의 자연수 A, B, C가 주어질 때 A × B × C를 계산한 결과에 0부터 9까지 각각의 숫자가 몇 번씩 쓰였는지를 구하는 프로그램을 작성하시오.\n",
    "#       예를 들어 A = 150, B = 266, C = 427 이라면 A × B × C = 150 × 266 × 427 = 17037300 이 되고, 계산한 결과 17037300 에는 0이 3번, 1이 1번, 3이 2번, 7이 2번 쓰였다.\n",
    "# 입력) 첫째 줄에 A, 둘째 줄에 B, 셋째 줄에 C가 주어진다. A, B, C는 모두 100보다 크거나 같고, 1,000보다 작은 자연수이다.\n",
    "# 출력) 첫째 줄에는 A × B × C의 결과에 0 이 몇 번 쓰였는지 출력한다. 마찬가지로 둘째 줄부터 열 번째 줄까지 A × B × C의 결과에 1부터 9까지의 숫자가 각각 몇 번 쓰였는지 차례로 한 줄에 하나씩 출력한다.\n",
    "A=int(input())\n",
    "B=int(input())\n",
    "C=int(input())\n",
    "total_sum=A*B*C\n",
    "\n",
    "x = [int(a) for a in str(total_sum)]\n",
    "new_list=[0,0,0,0,0,0,0,0,0,0]\n",
    "\n",
    "i=0\n",
    "for i in x:\n",
    "    new_list[i]+=1\n",
    "    i+=1\n",
    "    \n",
    "for i in new_list:\n",
    "    print(i)"
   ]
  },
  {
   "cell_type": "code",
   "execution_count": 61,
   "id": "b366dc2b",
   "metadata": {},
   "outputs": [
    {
     "name": "stdout",
     "output_type": "stream",
     "text": [
      "150\n",
      "266\n",
      "427\n",
      "[1, 7, 0, 3, 7, 3, 0, 0]\n",
      "[3, 1, 0, 2, 0, 0, 0, 2, 0, 0]\n"
     ]
    }
   ],
   "source": [
    "# 해당 코드를 정리하여 제출\n",
    "A=int(input())\n",
    "B=int(input())\n",
    "C=int(input())\n",
    "total_sum=A*B*C\n",
    "\n",
    "x = [int(a) for a in str(total_sum)]\n",
    "print(x)\n",
    "new_list=[0,0,0,0,0,0,0,0,0,0]\n",
    "sum=0\n",
    "count=0\n",
    "for i in x:\n",
    "    if i==0:\n",
    "        new_list[0]+=1\n",
    "    if i==1:\n",
    "        new_list[1]+=1\n",
    "    if i==2:\n",
    "        new_list[2]+=1\n",
    "    if i==3:\n",
    "        new_list[3]+=1\n",
    "    if i==4:\n",
    "        new_list[4]+=1\n",
    "    if i==5:\n",
    "        new_list[5]+=1\n",
    "    if i==6:\n",
    "        new_list[6]+=1\n",
    "    if i==7:\n",
    "        new_list[7]+=1\n",
    "    if i==8:\n",
    "        new_list[8]+=1\n",
    "    if i==9:\n",
    "        new_list[9]+=1\n",
    "print(new_list)"
   ]
  },
  {
   "cell_type": "code",
   "execution_count": null,
   "id": "f6b43610",
   "metadata": {},
   "outputs": [],
   "source": []
  }
 ],
 "metadata": {
  "kernelspec": {
   "display_name": "Python 3 (ipykernel)",
   "language": "python",
   "name": "python3"
  },
  "language_info": {
   "codemirror_mode": {
    "name": "ipython",
    "version": 3
   },
   "file_extension": ".py",
   "mimetype": "text/x-python",
   "name": "python",
   "nbconvert_exporter": "python",
   "pygments_lexer": "ipython3",
   "version": "3.9.12"
  }
 },
 "nbformat": 4,
 "nbformat_minor": 5
}
