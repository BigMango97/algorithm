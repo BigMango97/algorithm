{
 "cells": [
  {
   "cell_type": "code",
   "execution_count": null,
   "id": "75249ff1",
   "metadata": {},
   "outputs": [],
   "source": [
    "# 1번 최소,최데\n",
    "# 10818번\n",
    "# 문제) N개의 정수가 주어진다. 이때, 최솟값과 최댓값을 구하는 프로그램을 작성하시오.\n",
    "# 입력) 첫째 줄에 정수의 개수 N (1 ≤ N ≤ 1,000,000)이 주어진다. \n",
    "#       둘째 줄에는 N개의 정수를 공백으로 구분해서 주어진다. \n",
    "#       모든 정수는 -1,000,000보다 크거나 같고, 1,000,000보다 작거나 같은 정수이다.\n",
    "# 출력) 첫째 줄에 주어진 정수 N개의 최솟값과 최댓값을 공백으로 구분해 출력한다.\n",
    "N = int(input())\n",
    "a = list(map(int,input().split()))\n",
    "print(min(a), max(a))"
   ]
  },
  {
   "cell_type": "code",
   "execution_count": 50,
   "id": "92b7a1be",
   "metadata": {},
   "outputs": [
    {
     "name": "stdout",
     "output_type": "stream",
     "text": [
      "3\n",
      "29\n",
      "38\n",
      "12\n",
      "57\n",
      "74\n",
      "40\n",
      "85\n",
      "61\n",
      "85\n",
      "8\n"
     ]
    }
   ],
   "source": [
    "# 2번 최댓값\n",
    "# 2562번\n",
    "# 문제) 9개의 서로 다른 자연수가 주어질 때, 이들 중 최댓값을 찾고 그 최댓값이 몇 번째 수인지를 구하는 프로그램을 작성하시오.\n",
    "#       예를 들어, 서로 다른 9개의 자연수 3, 29, 38, 12, 57, 74, 40, 85, 61 이 주어지면, \n",
    "#       이들 중 최댓값은 85이고, 이 값은 8번째 수이다.\n",
    "# 입력) 첫째 줄부터 아홉 번째 줄까지 한 줄에 하나의 자연수가 주어진다. 주어지는 자연수는 100 보다 작다.\n",
    "# 출력) 첫째 줄에 최댓값을 출력하고, 둘째 줄에 최댓값이 몇 번째 수인지를 출력한다.\n",
    "num_list = []\n",
    "for i in range(9):\n",
    "    num_list.append(int(input()))\n",
    "print(max(num_list))\n",
    "print(num_list.index(max(num_list))+1)"
   ]
  },
  {
   "cell_type": "code",
   "execution_count": 66,
   "id": "817d9b1c",
   "metadata": {},
   "outputs": [
    {
     "name": "stdout",
     "output_type": "stream",
     "text": [
      "1\n",
      "2\n",
      "3\n",
      "4\n",
      "5\n",
      "6\n",
      "7\n",
      "8\n",
      "9\n",
      "10\n",
      "10\n"
     ]
    }
   ],
   "source": [
    "# 3번 나머지\n",
    "# 3052번\n",
    "# 문제) 두 자연수 A와 B가 있을 때, A%B는 A를 B로 나눈 나머지 이다. \n",
    "#       예를 들어, 7, 14, 27, 38을 3으로 나눈 나머지는 1, 2, 0, 2이다. \n",
    "#       수 10개를 입력받은 뒤, 이를 42로 나눈 나머지를 구한다. \n",
    "#       그 다음 서로 다른 값이 몇 개 있는지 출력하는 프로그램을 작성하시오.\n",
    "# 입력) 첫째 줄부터 열번째 줄 까지 숫자가 한 줄에 하나씩 주어진다. 이 숫자는 1,000보다 작거나 같고, 음이 아닌 정수이다.\n",
    "# 출력) 첫째 줄에, 42로 나누었을 때, 서로 다른 나머지가 몇 개 있는지 출력한다.\n",
    "new_list=[]\n",
    "for _ in range(10):\n",
    "    num_list=int(input())\n",
    "    remainder = num_list % 42\n",
    "    new_list.append(remainder)\n",
    "s=set(new_list)\n",
    "print(len(s))"
   ]
  },
  {
   "cell_type": "code",
   "execution_count": 28,
   "id": "988dd1b4",
   "metadata": {},
   "outputs": [
    {
     "name": "stdout",
     "output_type": "stream",
     "text": [
      "9\n",
      "10 20 30 40 50 60 70 80 90\n",
      "55.55555555555556\n"
     ]
    }
   ],
   "source": [
    "# 4번 평균\n",
    "# 1546번\n",
    "# 문제) 세준이는 기말고사를 망쳤다. 세준이는 점수를 조작해서 집에 가져가기로 했다. 일단 세준이는 자기 점수 중에 최댓값을 골랐다. 이 값을 M이라고 한다. 그리고 나서 모든 점수를 점수/M*100으로 고쳤다.\n",
    "#       예를 들어, 세준이의 최고점이 70이고, 수학점수가 50이었으면 수학점수는 50/70*100이 되어 71.43점이 된다.\n",
    "#       세준이의 성적을 위의 방법대로 새로 계산했을 때, 새로운 평균을 구하는 프로그램을 작성하시오.\n",
    "# 입력) 첫째 줄에 시험 본 과목의 개수 N이 주어진다. 이 값은 1000보다 작거나 같다. \n",
    "#       둘째 줄에 세준이의 현재 성적이 주어진다. 이 값은 100보다 작거나 같은 음이 아닌 정수이고, 적어도 하나의 값은 0보다 크다.\n",
    "# 출력) 첫째 줄에 새로운 평균을 출력한다. 실제 정답과 출력값의 절대오차 또는 상대오차가 10-2 이하이면 정답이다.\n",
    "\n",
    "N = int(input())\n",
    "score = list(map(int, input().strip().split()))\n",
    "Total = (sum(score)/max(score)*100)\n",
    "Avg=Total/N\n",
    "print(Avg)"
   ]
  },
  {
   "cell_type": "code",
   "execution_count": 46,
   "id": "b957660b",
   "metadata": {},
   "outputs": [
    {
     "name": "stdout",
     "output_type": "stream",
     "text": [
      "1\n",
      "OXOXOXOXOX\n",
      "5\n"
     ]
    }
   ],
   "source": [
    "# 5번 OX퀴즈\n",
    "# 8958번\n",
    "# 문제) \"OOXXOXXOOO\"와 같은 OX퀴즈의 결과가 있다. O는 문제를 맞은 것이고, X는 문제를 틀린 것이다. \n",
    "#        문제를 맞은 경우 그 문제의 점수는 그 문제까지 연속된 O의 개수가 된다. 예를 들어, 10번 문제의 점수는 3이 된다.\n",
    "#       \"OOXXOXXOOO\"의 점수는 1+2+0+0+1+0+0+1+2+3 = 10점이다.\n",
    "#        OX퀴즈의 결과가 주어졌을 때, 점수를 구하는 프로그램을 작성하시오.\n",
    "# 입력) 첫째 줄에 테스트 케이스의 개수가 주어진다. 각 테스트 케이스는 한 줄로 이루어져 있고, 길이가 0보다 크고 80보다 작은 문자열이 주어진다. \n",
    "#       문자열은 O와 X만으로 이루어져 있다.\n",
    "# 출력) 각 테스트 케이스마다 점수를 출력한다.\n",
    "\n",
    "N = int(input())\n",
    "for i in range(N):\n",
    "    ox_list = list(input())\n",
    "    score = 0\n",
    "    sum = 0\n",
    "    for ox in ox_list: \n",
    "        if ox == 'O':\n",
    "            score += 1\n",
    "            sum += score\n",
    "        elif ox == 'X':\n",
    "            score = 0\n",
    "    print(sum)"
   ]
  },
  {
   "cell_type": "code",
   "execution_count": 12,
   "id": "5e46f682",
   "metadata": {},
   "outputs": [
    {
     "name": "stdout",
     "output_type": "stream",
     "text": [
      "2\n",
      "5 50 50 10 20 30\n",
      "40.000%\n",
      "3 60 80 81\n",
      "66.667%\n"
     ]
    }
   ],
   "source": [
    "# 6번 평균은 넘겠지\n",
    "# 4344번\n",
    "# 문제) 대학생 새내기들의 90%는 자신이 반에서 평균은 넘는다고 생각한다. 당신은 그들에게 슬픈 진실을 알려줘야 한다.\n",
    "# 입력) 첫째 줄에는 테스트 케이스의 개수 C가 주어진다.\n",
    "#       둘째 줄부터 각 테스트 케이스마다 학생의 수 N(1 ≤ N ≤ 1000, N은 정수)이 첫 수로 주어지고, 이어서 N명의 점수가 주어진다. \n",
    "#       점수는 0보다 크거나 같고, 100보다 작거나 같은 정수이다.\n",
    "# 출력) 각 케이스마다 한 줄씩 평균을 넘는 학생들의 비율을 반올림하여 소수점 셋째 자리까지 출력한다.\n",
    "num = int(input())\n",
    "for i in range(num):\n",
    "    grd_list=list(map(int,input().split()))\n",
    "    a=(sum(grd_list[1:])/grd_list[0])\n",
    "    cnt = 0\n",
    "    for j in grd_list[1:]:\n",
    "        if j > a:\n",
    "            cnt+=1\n",
    "    per = cnt/(len(grd_list)-1)*100\n",
    "    print(f'{per:.3f}%')"
   ]
  },
  {
   "cell_type": "code",
   "execution_count": null,
   "id": "fc0c40a4",
   "metadata": {},
   "outputs": [],
   "source": []
  }
 ],
 "metadata": {
  "kernelspec": {
   "display_name": "Python 3 (ipykernel)",
   "language": "python",
   "name": "python3"
  },
  "language_info": {
   "codemirror_mode": {
    "name": "ipython",
    "version": 3
   },
   "file_extension": ".py",
   "mimetype": "text/x-python",
   "name": "python",
   "nbconvert_exporter": "python",
   "pygments_lexer": "ipython3",
   "version": "3.9.12"
  }
 },
 "nbformat": 4,
 "nbformat_minor": 5
}
