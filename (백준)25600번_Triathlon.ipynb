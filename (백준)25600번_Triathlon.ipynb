{
 "cells": [
  {
   "cell_type": "code",
   "execution_count": 88,
   "id": "55723398",
   "metadata": {},
   "outputs": [
    {
     "name": "stdout",
     "output_type": "stream",
     "text": [
      "5\n",
      "1 0 1\n",
      "5 2 3\n",
      "5 5 4\n",
      "0 1 4\n",
      "3 7 2\n",
      "50\n"
     ]
    }
   ],
   "source": [
    "# 25600번_Triathlon\n",
    "# 입력) 첫 번째 줄에 참가자의 수 $N$이 주어진다. ($1 \\le N \\le 1\\,000$)\n",
    "#       다음 $N$개의 줄에 각 참가자의 점수 $a$, $d$, $g$가 공백으로 구분되어 주어진다.\n",
    "#       $a$는 애드혹 문제 해결을 통해 얻은 점수이다. ($0 \\le a \\le 10\\,000$)\n",
    " #       $d$는 다이나믹 프로그래밍 문제 해결을 통해 얻은 점수이다. ($0 \\le d \\le 10\\,000$)\n",
    "#       $g$는 그리디 알고리즘 문제 해결을 통해 얻은 점수이다. ($0 \\le g \\le 10\\,000$)\n",
    "#        $a$, $d$, $g$는 모두 정수이다.\n",
    "# 출력) 첫 번째 줄에 참가자들이 받은 점수 중에서 가장 높은 점수를 출력한다.\n",
    "\n",
    "new_list=[]\n",
    "N = int(input())\n",
    "for i in range(N):\n",
    "    a,d,g = map(int,input().split())\n",
    "    if a == (d+g):\n",
    "        score = 2*a*(d+g)\n",
    "        new_list.append(score)\n",
    "    else :\n",
    "        score = a*(d+g)\n",
    "        new_list.append(int(score))\n",
    "print(max(new_list))"
   ]
  }
 ],
 "metadata": {
  "kernelspec": {
   "display_name": "Python 3 (ipykernel)",
   "language": "python",
   "name": "python3"
  },
  "language_info": {
   "codemirror_mode": {
    "name": "ipython",
    "version": 3
   },
   "file_extension": ".py",
   "mimetype": "text/x-python",
   "name": "python",
   "nbconvert_exporter": "python",
   "pygments_lexer": "ipython3",
   "version": "3.9.12"
  }
 },
 "nbformat": 4,
 "nbformat_minor": 5
}
