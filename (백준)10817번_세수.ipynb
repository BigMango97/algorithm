{
 "cells": [
  {
   "cell_type": "code",
   "execution_count": 6,
   "id": "61152f7a",
   "metadata": {},
   "outputs": [
    {
     "name": "stdout",
     "output_type": "stream",
     "text": [
      "40 40 40\n",
      "40\n"
     ]
    }
   ],
   "source": [
    "# 10817번 세 수\n",
    "# 문제) 세 정수 A, B, C가 주어진다. 이때, 두 번째로 큰 정수를 출력하는 프로그램을 작성하시오. \n",
    "# 입력) 첫째 줄에 세 정수 A, B, C가 공백으로 구분되어 주어진다. (1 ≤ A, B, C ≤ 100)\n",
    "# 출력) 두 번째로 큰 정수를 출력한다.\n",
    "\n",
    "n = list(map(int,input().split()))\n",
    "n_reverse=sorted(n,reverse=False)\n",
    "print(n_reverse[1])"
   ]
  }
 ],
 "metadata": {
  "kernelspec": {
   "display_name": "Python 3 (ipykernel)",
   "language": "python",
   "name": "python3"
  },
  "language_info": {
   "codemirror_mode": {
    "name": "ipython",
    "version": 3
   },
   "file_extension": ".py",
   "mimetype": "text/x-python",
   "name": "python",
   "nbconvert_exporter": "python",
   "pygments_lexer": "ipython3",
   "version": "3.9.12"
  }
 },
 "nbformat": 4,
 "nbformat_minor": 5
}
