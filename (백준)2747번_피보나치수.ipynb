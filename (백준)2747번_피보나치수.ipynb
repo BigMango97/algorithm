{
 "cells": [
  {
   "cell_type": "code",
   "execution_count": 7,
   "id": "831b0c5b",
   "metadata": {},
   "outputs": [
    {
     "name": "stdout",
     "output_type": "stream",
     "text": [
      "10\n",
      "55\n"
     ]
    }
   ],
   "source": [
    "# 2747번 피보나치수\n",
    "# 입력) 첫째 줄에 n이 주어진다. n은 45보다 작거나 같은 자연수이다.\n",
    "# 출력) 첫째 줄에 n번째 피보나치 수를 출력한다.\n",
    "\n",
    "N=int(input())\n",
    "array=[0,1]\n",
    "for i in range(0,N-1):\n",
    "    array.append(array[i]+array[i+1])\n",
    "print(array[-1])"
   ]
  }
 ],
 "metadata": {
  "kernelspec": {
   "display_name": "Python 3 (ipykernel)",
   "language": "python",
   "name": "python3"
  },
  "language_info": {
   "codemirror_mode": {
    "name": "ipython",
    "version": 3
   },
   "file_extension": ".py",
   "mimetype": "text/x-python",
   "name": "python",
   "nbconvert_exporter": "python",
   "pygments_lexer": "ipython3",
   "version": "3.9.12"
  }
 },
 "nbformat": 4,
 "nbformat_minor": 5
}
