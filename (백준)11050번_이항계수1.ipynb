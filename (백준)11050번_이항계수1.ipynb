{
 "cells": [
  {
   "cell_type": "code",
   "execution_count": 1,
   "id": "8afe9349",
   "metadata": {},
   "outputs": [],
   "source": [
    "# 11050번 이항계수1\n",
    "# 문제) 자연수 N과 정수 K가 주어졌을 때 이항 계수를 구하는 프로그램을 작성하시오.\n",
    "# 입력) 첫째 줄에 N과 K가 주어진다. (1 ≤ N ≤ 10, 0 ≤ K ≤ N)"
   ]
  },
  {
   "cell_type": "code",
   "execution_count": 7,
   "id": "8736d8e9",
   "metadata": {},
   "outputs": [
    {
     "name": "stdout",
     "output_type": "stream",
     "text": [
      "5 2\n",
      "10\n"
     ]
    }
   ],
   "source": [
    "M,N=map(int,input().split())\n",
    "def recursive_function(n):\n",
    "    if (n<=1):\n",
    "        return 1\n",
    "    return n*recursive_function(n-1)\n",
    "\n",
    "print(int(recursive_function(M)/(recursive_function(M-N)*recursive_function(N))))"
   ]
  }
 ],
 "metadata": {
  "kernelspec": {
   "display_name": "Python 3 (ipykernel)",
   "language": "python",
   "name": "python3"
  },
  "language_info": {
   "codemirror_mode": {
    "name": "ipython",
    "version": 3
   },
   "file_extension": ".py",
   "mimetype": "text/x-python",
   "name": "python",
   "nbconvert_exporter": "python",
   "pygments_lexer": "ipython3",
   "version": "3.9.12"
  }
 },
 "nbformat": 4,
 "nbformat_minor": 5
}
