{
 "cells": [
  {
   "cell_type": "code",
   "execution_count": 13,
   "id": "bc0a7985",
   "metadata": {
    "scrolled": true
   },
   "outputs": [
    {
     "name": "stdout",
     "output_type": "stream",
     "text": [
      "ESTJ\n",
      "5\n",
      "ISTP\n",
      "ESTJ\n",
      "INTP\n",
      "ESTJ\n",
      "ENTJ\n",
      "2\n"
     ]
    }
   ],
   "source": [
    "# 25640번 MBTI\n",
    "# 문제) 진호는 요즘 유행하는 심리 검사인 MBTI에 관심이 많다. MBTI는 아래와 같이 네 가지 척도로 사람들의 성격을 구분해서, 총 $16$가지의 유형중에서 자신의 유형을 찾을 수 있는 심리 검사이다.\n",
    "#       진호는 $N$명의 친구들에게 MBTI 유형을 물어 봤다. 이 중에서 진호와 MBTI 유형이 같은 사람의 수는 얼마일까?\n",
    "# 입력) 첫째 줄에 진호의 MBTI 유형이 주어진다.\n",
    "#       둘째 줄에 진호의 친구의 수 N(1 <= N <= 100)이 주어진다.\n",
    "#       셋째 줄부터 N개의 줄에 친구들의 MBTI 유형이 주어진다.\n",
    "# 출력) 진호와 MBTI 유형이 같은 사람의 수를 출력한다.\n",
    "MBTI=str(input())\n",
    "N=int(input())\n",
    "sum=0\n",
    "for i in range(0,N):\n",
    "    N=str(input())\n",
    "    if N==MBTI:\n",
    "        sum+=1\n",
    "print(sum)"
   ]
  }
 ],
 "metadata": {
  "kernelspec": {
   "display_name": "Python 3 (ipykernel)",
   "language": "python",
   "name": "python3"
  },
  "language_info": {
   "codemirror_mode": {
    "name": "ipython",
    "version": 3
   },
   "file_extension": ".py",
   "mimetype": "text/x-python",
   "name": "python",
   "nbconvert_exporter": "python",
   "pygments_lexer": "ipython3",
   "version": "3.9.12"
  }
 },
 "nbformat": 4,
 "nbformat_minor": 5
}
