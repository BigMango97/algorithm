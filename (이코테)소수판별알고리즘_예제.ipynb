{
 "cells": [
  {
   "cell_type": "markdown",
   "id": "51b37bb0",
   "metadata": {},
   "source": [
    "소수 : 1보다 큰 자연수 중에서 1과 자기 자신을 제외한 자연수로는 나누어떨어지지 않는 자연수"
   ]
  },
  {
   "cell_type": "code",
   "execution_count": 3,
   "id": "74e8a5bd",
   "metadata": {},
   "outputs": [
    {
     "name": "stdout",
     "output_type": "stream",
     "text": [
      "False\n",
      "True\n"
     ]
    }
   ],
   "source": [
    "# 소수의 판별 : 기본 알고리즘\n",
    "def is_prime_number(x):\n",
    "    for i in range(2,x):\n",
    "        if x % i==0:\n",
    "            return False\n",
    "    return True\n",
    "\n",
    "print(is_prime_number(4))\n",
    "print(is_prime_number(7))"
   ]
  },
  {
   "cell_type": "markdown",
   "id": "ade5c467",
   "metadata": {},
   "source": [
    "약수의 성질\n",
    "모든 약수가 가운데 약수를 기준으로 곱셈 연산에 대해 대칭을 이룸\n",
    "- 예를 들어 16의 약수는 1.2.4,8,16\n",
    "따라서 우리는 특정한 자연수의 모든 약수를 찾을 때 가운데 약수(제곱근)까지만 확인하면 된다\n",
    "- 예를 들어 16이 2로 나누어 떨어진다는 것은 8로도 나누어떨어진다는 것을 의미한다."
   ]
  },
  {
   "cell_type": "code",
   "execution_count": 4,
   "id": "d3ccc9e5",
   "metadata": {},
   "outputs": [
    {
     "name": "stdout",
     "output_type": "stream",
     "text": [
      "False\n",
      "True\n"
     ]
    }
   ],
   "source": [
    "# 소수의 판별: 개선된 알고리즘\n",
    "import math\n",
    "def is_prime_number(x):\n",
    "    # 2부터 x의 제곱근까지의 모든 수를 확인하며\n",
    "    for i in range(2,int(math.sqrt(x))+1):\n",
    "        # x가 해당 수로 나누어 떨어진다면\n",
    "        if x%i == 0:\n",
    "            return False #소수가 아님\n",
    "    return True #소수임\n",
    "print(is_prime_number(4))\n",
    "print(is_prime_number(7))"
   ]
  }
 ],
 "metadata": {
  "kernelspec": {
   "display_name": "Python 3 (ipykernel)",
   "language": "python",
   "name": "python3"
  },
  "language_info": {
   "codemirror_mode": {
    "name": "ipython",
    "version": 3
   },
   "file_extension": ".py",
   "mimetype": "text/x-python",
   "name": "python",
   "nbconvert_exporter": "python",
   "pygments_lexer": "ipython3",
   "version": "3.9.12"
  }
 },
 "nbformat": 4,
 "nbformat_minor": 5
}
