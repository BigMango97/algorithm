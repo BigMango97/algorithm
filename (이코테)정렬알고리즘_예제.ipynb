{
 "cells": [
  {
   "cell_type": "markdown",
   "id": "f51a2561",
   "metadata": {},
   "source": [
    "### 정렬(Sorting) : 데이터를 특정한 기준에 따라 순서대로 나열"
   ]
  },
  {
   "cell_type": "markdown",
   "id": "42479fc4",
   "metadata": {},
   "source": [
    "#### 선택 정렬 : 처리되지 않은 데이터 중에서 가장 작은 데이터를 선택해 맨 앞에 있는 데이터와 바꾸는 것을 반복\n",
    "- 선택 정렬은 N번 만큼 가장 작은 수를 찾아서 맨 앞으로 보내야한다.\n",
    "- 아이디어가 매우 간단하다."
   ]
  },
  {
   "cell_type": "code",
   "execution_count": 6,
   "id": "312515c2",
   "metadata": {},
   "outputs": [
    {
     "name": "stdout",
     "output_type": "stream",
     "text": [
      "[0, 1, 2, 3, 4, 5, 6, 7, 8, 9]\n"
     ]
    }
   ],
   "source": [
    "array=[7,5,9,0,3,1,6,2,4,8]\n",
    "\n",
    "for i in range(len(array)):\n",
    "    min_index=i #가장 작은 원소의 인덱스\n",
    "    for j in range(i+1,len(array)):\n",
    "        if array[min_index]>array[j]:\n",
    "            min_index=j\n",
    "    array[i],array[min_index]=array[min_index],array[i]\n",
    "print(array)"
   ]
  },
  {
   "cell_type": "markdown",
   "id": "2a3b640a",
   "metadata": {},
   "source": [
    "#### 삽입 정렬 : 처리되지 않은 데이터를 하나씩 골라 적절한 위치에 삽입\n",
    "- 선택 정렬에 비해 구현 난이도가 높은 편이지만, 일반저으로 더 효율적으로 동작한다.\n",
    "- 삽입 정렬은 현재 리스트의 데이터가 거의 정렬되어 있는 상태라면 매우 빠르게 작동한다.\n",
    "- 데이터가 거의 정렬되어 있을 때는 가장 빠르다."
   ]
  },
  {
   "cell_type": "code",
   "execution_count": 9,
   "id": "4d12c516",
   "metadata": {},
   "outputs": [
    {
     "name": "stdout",
     "output_type": "stream",
     "text": [
      "[0, 1, 2, 3, 4, 5, 6, 7, 8, 9]\n"
     ]
    }
   ],
   "source": [
    "array=[7,5,9,0,3,1,6,2,4,8]\n",
    "for i in range(1,len(array)):\n",
    "    for j in range(i,0,-1): #인덱스 i부터 1까지 1씩 감소하며 반복하는 문법\n",
    "        if array[j]<array[j-1]: #한칸씩 왼쪽으로 이동\n",
    "            array[j],array[j-1]=array[j-1],array[j]\n",
    "        else: #자기보다 작은 데이터를 만나면 그 위치에서 멈춤\n",
    "            break\n",
    "print(array)"
   ]
  },
  {
   "cell_type": "markdown",
   "id": "36c58820",
   "metadata": {},
   "source": [
    "#### 퀵 정렬 : 기준 데이터를 설정하고 그 기준보다 큰 데이터와 작은 데이터의 위치를 바꾸는 방법\n",
    "- 일반적인 상황에서 가장 많이 사용되는 정렬 알고리즘 중 하나이다.\n",
    "- 병합 정렬과 더불어 대부분 프로그래밍 언어의 정렬 라이브러리의 근간이 되는 알고리즘이다.\n",
    "- 가장 기본적인 퀵 정렬은 첫번째 데이터를 기준 데이터(Pivot)로 설정한다\n",
    "- 대부분의 경우에 가장 적합하며, 충분히 빠르다"
   ]
  },
  {
   "cell_type": "code",
   "execution_count": 10,
   "id": "77056027",
   "metadata": {},
   "outputs": [
    {
     "name": "stdout",
     "output_type": "stream",
     "text": [
      "[0, 1, 2, 3, 4, 5, 6, 7, 8, 9]\n"
     ]
    }
   ],
   "source": [
    "array=[5,7,9,0,3,1,6,2,4,8]\n",
    "\n",
    "def quick_sort(array):\n",
    "    #리스트가 하나 이하의 원소만 담고 있다면 종료\n",
    "    if len(array)<=1:\n",
    "        return array\n",
    "    pivot = array[0] #피벗은 첫번째 원소\n",
    "    tail = array[1:] # 피벗을 제외한 리스트\n",
    "    left_side=[x for x in tail if x<=pivot] #분할된 왼쪽 부분\n",
    "    right_side=[x for x in tail if x>pivot] #분할된 오른쪽 부분\n",
    "    # 분할 이후 왼쪽 부분과 오른쪽 부분에서 각각 정렬 수행하고, 전체 리스트 반환\n",
    "    return quick_sort(left_side) + [pivot] +quick_sort(right_side)\n",
    "print(quick_sort(array))"
   ]
  },
  {
   "cell_type": "markdown",
   "id": "da3e549c",
   "metadata": {},
   "source": [
    "#### 계수정렬: 특정한 조건이 부합할 때만 사용할 수 있지만 매우 빠르게 동작하는 정렬 알고리즘\n",
    "- 계수 정렬은 데이터의 크기 범위가 제한되어 정수 형태로 표현할 수 있을때 사용 가능하다.\n",
    "- 계수 정렬은 동일한 값을 가지는 데이터가 여러 개 등장할 때 효과적으로 사용할 수 있다.\n",
    "- 데이터의 크기가 한정되어 있는 경우에만 사용이 가능하지만 매우 빠르게 동작한다."
   ]
  },
  {
   "cell_type": "code",
   "execution_count": 12,
   "id": "77189bf8",
   "metadata": {},
   "outputs": [
    {
     "name": "stdout",
     "output_type": "stream",
     "text": [
      "0 0 1 1 2 2 3 4 5 5 6 7 8 9 9 "
     ]
    }
   ],
   "source": [
    "# 모든 원소의 값이 0보다 크거가 같다고 가정\n",
    "array=[7,5,9,0,3,1,6,2,9,1,4,8,0,5,2]\n",
    "# 모든 범위를 포함하는 리스트 선언(모든 값은 0으로 초기화)\n",
    "count=[0]*(max(array)+1)\n",
    "\n",
    "for i in range(len(array)):\n",
    "    count[array[i]]+=1 #각 데이터에 해당하는 인덱스의 값 증가\n",
    "    \n",
    "for i in range(len(count)): #리스트에 기록된 정렬 정보 확인\n",
    "    for j in range(count[i]):\n",
    "        print(i,end=' ') #띄어쓰기를 구분으로 등장한 횟수만큼 인덱스 출력"
   ]
  }
 ],
 "metadata": {
  "kernelspec": {
   "display_name": "Python 3 (ipykernel)",
   "language": "python",
   "name": "python3"
  },
  "language_info": {
   "codemirror_mode": {
    "name": "ipython",
    "version": 3
   },
   "file_extension": ".py",
   "mimetype": "text/x-python",
   "name": "python",
   "nbconvert_exporter": "python",
   "pygments_lexer": "ipython3",
   "version": "3.9.12"
  }
 },
 "nbformat": 4,
 "nbformat_minor": 5
}
