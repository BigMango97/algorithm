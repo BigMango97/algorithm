{
 "cells": [
  {
   "cell_type": "code",
   "execution_count": 7,
   "id": "4fb00785",
   "metadata": {},
   "outputs": [
    {
     "name": "stdout",
     "output_type": "stream",
     "text": [
      "2\n",
      "2 * 1 = 2\n",
      "2 * 2 = 4\n",
      "2 * 3 = 6\n",
      "2 * 4 = 8\n",
      "2 * 5 = 10\n",
      "2 * 6 = 12\n",
      "2 * 7 = 14\n",
      "2 * 8 = 16\n",
      "2 * 9 = 18\n"
     ]
    }
   ],
   "source": [
    "# 1번 구구단\n",
    "# 문제) N을 입력받은 뒤, 구구단 N단을 출력하는 프로그램을 작성하시오. 출력 형식에 맞춰서 출력하면 된다.\n",
    "# 입력) 첫째 줄에 N이 주어진다. N은 1보다 크거나 같고, 9보다 작거나 같다.\n",
    "# 출력) 출력형식과 같게 N*1부터 N*9까지 출력한다.\n",
    "\n",
    "N = int(input())\n",
    "for i in range(1,10):\n",
    "    print(N,\"*\",i,\"=\",N*i)"
   ]
  },
  {
   "cell_type": "code",
   "execution_count": 15,
   "id": "706a2f60",
   "metadata": {},
   "outputs": [
    {
     "name": "stdout",
     "output_type": "stream",
     "text": [
      "5\n",
      "1 1\n",
      "2\n",
      "2 3\n",
      "5\n",
      "3 4\n",
      "7\n",
      "9 8\n",
      "17\n",
      "5 2\n",
      "7\n"
     ]
    }
   ],
   "source": [
    "# 2번 A+B-3\n",
    "# 문제) 두 정수 A와 B를 입력받은 다음, A+B를 출력하는 프로그램을 작성하시오.\n",
    "# 입력) 첫째 줄에 테스트 케이스의 개수 T가 주어진다.\n",
    "#       각 테스트 케이스는 한 줄로 이루어져 있으며, 각 줄에 A와 B가 주어진다. (0 < A, B < 10)\n",
    "# 출력) 각 테스트 케이스마다 A+B를 출력한다.\n",
    "T = int(input())\n",
    "for i in range(0,T):\n",
    "    A,B= map(int,input().split())\n",
    "    print(A+B)"
   ]
  },
  {
   "cell_type": "code",
   "execution_count": 63,
   "id": "41fe6fb7",
   "metadata": {},
   "outputs": [
    {
     "name": "stdout",
     "output_type": "stream",
     "text": [
      "4\n",
      "10\n"
     ]
    }
   ],
   "source": [
    "# 3번 합\n",
    "# 문제) n이 주어졌을 때, 1부터 n까지 합을 구하는 프로그램을 작성하시오.\n",
    "# 입력) 첫째 줄에 n (1 ≤ n ≤ 10,000)이 주어진다.\n",
    "# 출력) 1부터 n까지 합을 출력한다.\n",
    "n = int(input())\n",
    "a = []\n",
    "for i in range(1,n+1):\n",
    "    a.append(n-i)\n",
    "    list=n+sum(a)\n",
    "print(list)"
   ]
  },
  {
   "cell_type": "code",
   "execution_count": 30,
   "id": "34e6ec63",
   "metadata": {},
   "outputs": [
    {
     "name": "stdout",
     "output_type": "stream",
     "text": [
      "260000\n",
      "4\n",
      "20000 5\n",
      "30000 2\n",
      "10000 6\n",
      "5000 8\n",
      "Yes\n"
     ]
    }
   ],
   "source": [
    "# 4번 영수증\n",
    "# 문제) 준원이는 저번 주에 살면서 처음으로 코스트코를 가 봤다. 정말 멋졌다. 그런데, 몇 개 담지도 않았는데 수상하게 높은 금액이 나오는 것이다! 준원이는 영수증을 보면서 정확하게 계산된 것이 맞는지 확인해보려 한다.\n",
    "#       영수증에 적힌, 구매한 각 물건의 가격과 개수 구매한 물건들의 총 금액 을 보고, 구매한 물건의 가격과 개수로 계산한 총 금액이 영수증에 적힌 총 금액과 일치하는지 검사해보자\n",
    "# 입력) 첫째 줄에는 영수증에 적힌 총 금액 X가 주어진다.\n",
    "#       둘째 줄에는 영수증에 적힌 구매한 물건의 종류의 수 N이 주어진다.\n",
    "#       이후 N개의 줄에는 각 물건의 가격 a와 개수 b가 공백을 사이에 두고 주어진다.\n",
    "# 출력) 구매한 물건의 가격과 개수로 계산한 총 금액이 영수증에 적힌 총 금액과 일치하면 Yes를 출력한다. 일치하지 않는다면 No를 출력한다.\n",
    "X = int(input())\n",
    "N = int(input())\n",
    "total=0\n",
    "for i in range(1,N+1):\n",
    "    a,b = map(int,input().split())\n",
    "    total+=(a*b)\n",
    "if (total == X):\n",
    "    print(\"Yes\")\n",
    "else :\n",
    "    print(\"No\")"
   ]
  },
  {
   "cell_type": "code",
   "execution_count": null,
   "id": "7173ff37",
   "metadata": {},
   "outputs": [],
   "source": [
    "# 5번 빠른 A+B\n",
    "# 입력) 첫 줄에 테스트케이스의 개수 T가 주어진다. T는 최대 1,000,000이다. 다음 T줄에는 각각 두 정수 A와 B가 주어진다. A와 B는 1 이상, 1,000 이하이다.\n",
    "# 출력) 각 테스트케이스마다 A+B를 한 줄에 하나씩 순서대로 출력한다.\n",
    "import sys\n",
    "T = int(sys.stdin.readline())\n",
    "for i in range(0,T):\n",
    "    A,B = map(int,sys.stdin.readline().split())\n",
    "    print(A+B)"
   ]
  },
  {
   "cell_type": "code",
   "execution_count": 176,
   "id": "7f69b290",
   "metadata": {},
   "outputs": [
    {
     "name": "stdout",
     "output_type": "stream",
     "text": [
      "5\n",
      "1 3\n",
      "Case #1: 4\n",
      "2 4\n",
      "Case #2: 6\n",
      "1 2\n",
      "Case #3: 3\n",
      "7 5\n",
      "Case #4: 12\n",
      "1 3\n",
      "Case #5: 4\n"
     ]
    }
   ],
   "source": [
    "# 6번 A+B - 7\n",
    "# 문제) 두 정수 A와 B를 입력받은 다음, A+B를 출력하는 프로그램을 작성하시오.\n",
    "# 입력) 첫째 줄에 테스트 케이스의 개수 T가 주어진다.\n",
    "#       각 테스트 케이스는 한 줄로 이루어져 있으며, 각 줄에 A와 B가 주어진다. (0 < A, B < 10)\n",
    "# 출력) 각 테스트 케이스마다 \"Case #x: \"를 출력한 다음, A+B를 출력한다. 테스트 케이스 번호는 1부터 시작한다.\n",
    "K = int(input())\n",
    "for i in range(K) :\n",
    "    a,b = map(int, input().split())\n",
    "    print(\"Case #\", i+1,': ', a+b, sep='')"
   ]
  },
  {
   "cell_type": "code",
   "execution_count": 185,
   "id": "ed145c7d",
   "metadata": {},
   "outputs": [
    {
     "name": "stdout",
     "output_type": "stream",
     "text": [
      "2\n",
      "1 2\n",
      "Case #1: 1 + 2 = 3\n",
      "1 2\n",
      "Case #2: 1 + 2 = 3\n"
     ]
    }
   ],
   "source": [
    "# 7번 A+B - 8\n",
    "# 문제) 두 정수 A와 B를 입력받은 다음, A+B를 출력하는 프로그램을 작성하시오.\n",
    "# 입력) 첫째 줄에 테스트 케이스의 개수 T가 주어진다.\n",
    "#       각 테스트 케이스는 한 줄로 이루어져 있으며, 각 줄에 A와 B가 주어진다. (0 < A, B < 10)\n",
    "# 출력) 각 테스트 케이스마다 \"Case #x: A + B = C\" 형식으로 출력한다. x는 테스트 케이스 번호이고 1부터 시작하며, C는 A+B이다.\n",
    "T = int(input())\n",
    "for i in range(T) :\n",
    "    a,b = map(int, input().split())\n",
    "    print(\"Case #\",i+1,\": \", a ,\" + \", b ,\" = \", a+b, sep='')"
   ]
  },
  {
   "cell_type": "code",
   "execution_count": 189,
   "id": "55342d84",
   "metadata": {},
   "outputs": [
    {
     "name": "stdout",
     "output_type": "stream",
     "text": [
      "5\n",
      "*\n",
      "**\n",
      "***\n",
      "****\n",
      "*****\n"
     ]
    }
   ],
   "source": [
    "# 8번 별 찍기-1\n",
    "# 문제) 첫째 줄에는 별 1개, 둘째 줄에는 별 2개, N번째 줄에는 별 N개를 찍는 문제\n",
    "# 입력) 첫째 줄에 N(1 ≤ N ≤ 100)이 주어진다.\n",
    "# 출력) 첫째 줄부터 N번째 줄까지 차례대로 별을 출력한다.\n",
    "\n",
    "N = int(input())\n",
    "for i in range(1,N+1):\n",
    "    print(i*\"*\")"
   ]
  },
  {
   "cell_type": "code",
   "execution_count": 191,
   "id": "b9101f97",
   "metadata": {},
   "outputs": [
    {
     "name": "stdout",
     "output_type": "stream",
     "text": [
      "5\n",
      "    *\n",
      "   **\n",
      "  ***\n",
      " ****\n",
      "*****\n"
     ]
    }
   ],
   "source": [
    "# 9번 별 찍기 - 2\n",
    "# 문제) 첫째 줄에는 별 1개, 둘째 줄에는 별 2개, N번째 줄에는 별 N개를 찍는 문제\n",
    "#       하지만, 오른쪽을 기준으로 정렬한 별(예제 참고)을 출력하시오.\n",
    "# 입력) 첫째 줄에 N(1 ≤ N ≤ 100)이 주어진다.\n",
    "# 출력) 첫째 줄부터 N번째 줄까지 차례대로 별을 출력한다.\n",
    "\n",
    "N = int(input())\n",
    "for i in range(1,N+1):\n",
    "    print((N-i)*\" \" + (i*\"*\"))"
   ]
  },
  {
   "cell_type": "code",
   "execution_count": null,
   "id": "1fc9e6f9",
   "metadata": {},
   "outputs": [],
   "source": [
    "# 10번 X보다 작은 수\n",
    "# 문제) 정수 N개로 이루어진 수열 A와 정수 X가 주어진다. 이때, A에서 X보다 작은 수를 모두 출력하는 프로그램을 작성하시오.\n",
    "# 입력) 첫째 줄에 N과 X가 주어진다. (1 ≤ N, X ≤ 10,000)\n",
    "#       둘째 줄에 수열 A를 이루는 정수 N개가 주어진다. 주어지는 정수는 모두 1보다 크거나 같고, 10,000보다 작거나 같은 정수이다.\n",
    "# 출력) X보다 작은 수를 입력받은 순서대로 공백으로 구분해 출력한다. X보다 작은 수는 적어도 하나 존재한다.\n",
    "N, X = map(int, input().split())\n",
    "A = list(map(int, input().split()))\n",
    "for i in A:\n",
    "    if i < X:\n",
    "        print(i, end=\" \")"
   ]
  },
  {
   "cell_type": "code",
   "execution_count": 12,
   "id": "ca92f2d3",
   "metadata": {},
   "outputs": [
    {
     "name": "stdout",
     "output_type": "stream",
     "text": [
      "1 1\n",
      "2\n",
      "2 3\n",
      "5\n",
      "0 0\n"
     ]
    }
   ],
   "source": [
    "# 11번 A+B - 5\n",
    "# 문제) 두 정수 A와 B를 입력받은 다음, A+B를 출력하는 프로그램을 작성하시오.\n",
    "# 입력) 입력은 여러 개의 테스트 케이스로 이루어져 있다.\n",
    "#       각 테스트 케이스는 한 줄로 이루어져 있으며, 각 줄에 A와 B가 주어진다. (0 < A, B < 10)\n",
    "#       입력의 마지막에는 0 두 개가 들어온다.\n",
    "# 출력) 각 테스트 케이스마다 A+B를 출력한다.\n",
    "\n",
    "while 1:\n",
    "    A,B =  map(int, input().split())\n",
    "    if (A==0 and B==0):\n",
    "        break\n",
    "    else :\n",
    "        print(A+B)"
   ]
  },
  {
   "cell_type": "code",
   "execution_count": 18,
   "id": "3c3eb84e",
   "metadata": {},
   "outputs": [
    {
     "name": "stdout",
     "output_type": "stream",
     "text": [
      "1 2\n",
      "3\n",
      "1 3\n",
      "4\n",
      "4 5\n",
      "9\n",
      "1\n"
     ]
    }
   ],
   "source": [
    "# 12번 A+B - 4\n",
    "# 문제) 두 정수 A와 B를 입력받은 다음, A+B를 출력하는 프로그램을 작성하시오.\n",
    "# 입력) 입력은 여러 개의 테스트 케이스로 이루어져 있다.\n",
    "#       각 테스트 케이스는 한 줄로 이루어져 있으며, 각 줄에 A와 B가 주어진다. (0 < A, B < 10)\n",
    "# 출력) 각 테스트 케이스마다 A+B를 출력한다.\n",
    "\n",
    "try:\n",
    "    while 1:\n",
    "        A,B =  map(int, input().split())\n",
    "        print(A+B)\n",
    "except:\n",
    "    exit()"
   ]
  },
  {
   "cell_type": "code",
   "execution_count": null,
   "id": "8c854c1a",
   "metadata": {},
   "outputs": [],
   "source": [
    "# 13번 더하기 사이클\n",
    "# 문제) 0 보다 크거나 같고, 99보다 작거나 같은 정수가 주어질 때 다음과 같은 연산을 할 수 있다. \n",
    "#       먼저 주어진 수가 10보다 작다면 앞에 0을 붙여 두 자리 수로 만들고, 각 자리의 숫자를 더한다. \n",
    "#       그 다음, 주어진 수의 가장 오른쪽 자리 수와 앞에서 구한 합의 가장 오른쪽 자리 수를 이어 붙이면 새로운 수를 만들 수 있다. 다음 예를 보자.\n",
    "#       26부터 시작한다. 2+6 = 8이다. 새로운 수는 68이다. 6+8 = 14이다. 새로운 수는 84이다. 8+4 = 12이다. 새로운 수는 42이다. 4+2 = 6이다. 새로운 수는 26이다.\n",
    "#       위의 예는 4번만에 원래 수로 돌아올 수 있다. 따라서 26의 사이클의 길이는 4이다.\n",
    "#       N이 주어졌을 때, N의 사이클의 길이를 구하는 프로그램을 작성하시오.\n",
    "# 입력) 첫째 줄에 N이 주어진다. N은 0보다 크거나 같고, 99보다 작거나 같은 정수이다.\n",
    "# 출력) 첫째 줄에 N의 사이클 길이를 출력한다.\n",
    "\n",
    "\n",
    "# ***************\n",
    "# 추후 도전 예정*\n",
    "# ***************"
   ]
  }
 ],
 "metadata": {
  "kernelspec": {
   "display_name": "Python 3 (ipykernel)",
   "language": "python",
   "name": "python3"
  },
  "language_info": {
   "codemirror_mode": {
    "name": "ipython",
    "version": 3
   },
   "file_extension": ".py",
   "mimetype": "text/x-python",
   "name": "python",
   "nbconvert_exporter": "python",
   "pygments_lexer": "ipython3",
   "version": "3.9.12"
  }
 },
 "nbformat": 4,
 "nbformat_minor": 5
}
