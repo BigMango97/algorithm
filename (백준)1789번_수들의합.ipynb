{
 "cells": [
  {
   "cell_type": "code",
   "execution_count": 6,
   "id": "0976f6c0",
   "metadata": {},
   "outputs": [
    {
     "name": "stdout",
     "output_type": "stream",
     "text": [
      "200\n",
      "19\n"
     ]
    }
   ],
   "source": [
    "# 1789번_ 수들의합\n",
    "# 문제) 서로 다른 N개의 자연수의 합이 S라고 한다. S를 알 때, 자연수 N의 최댓값은 얼마일까?\n",
    "# 입력) 첫째 줄에 자연수 S(1 ≤ S ≤ 4,294,967,295)가 주어진다.\n",
    "# 출력) 첫째 줄에 자연수 N의 최댓값을 출력한다.\n",
    "\n",
    "N=int(input())\n",
    "sum_N=0\n",
    "start=0\n",
    "while N >= sum_N:\n",
    "    start+=1\n",
    "    sum_N+=start\n",
    "    if N < sum_N:\n",
    "        break\n",
    "print(start-1)"
   ]
  }
 ],
 "metadata": {
  "kernelspec": {
   "display_name": "Python 3 (ipykernel)",
   "language": "python",
   "name": "python3"
  },
  "language_info": {
   "codemirror_mode": {
    "name": "ipython",
    "version": 3
   },
   "file_extension": ".py",
   "mimetype": "text/x-python",
   "name": "python",
   "nbconvert_exporter": "python",
   "pygments_lexer": "ipython3",
   "version": "3.9.12"
  }
 },
 "nbformat": 4,
 "nbformat_minor": 5
}
