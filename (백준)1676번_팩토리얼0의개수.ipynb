{
 "cells": [
  {
   "cell_type": "code",
   "execution_count": 88,
   "id": "71804204",
   "metadata": {},
   "outputs": [
    {
     "name": "stdout",
     "output_type": "stream",
     "text": [
      "10\n",
      "2\n"
     ]
    }
   ],
   "source": [
    "# 1676번_팩토리얼 0의개수\n",
    "# 문제) N!에서 뒤에서부터 처음 0이 아닌 숫자가 나올 때까지 0의 개수를 구하는 프로그램을 작성하시오.\n",
    "# 입력) 첫째 줄에 N이 주어진다. (0 ≤ N ≤ 500)\n",
    "# 출력) 첫째 줄에 구한 0의 개수를 출력한다.\n",
    "N=int(input())\n",
    "sum_i=1\n",
    "for i in range(1,N+1):\n",
    "    sum_i=i*sum_i\n",
    "sum_list = list(map(int,str(sum_i)))\n",
    "sum_list.reverse()\n",
    "cnt=0\n",
    "\n",
    "for i in sum_list:\n",
    "    if i==0:\n",
    "        cnt+=1\n",
    "    else:\n",
    "        break\n",
    "print(cnt)"
   ]
  }
 ],
 "metadata": {
  "kernelspec": {
   "display_name": "Python 3 (ipykernel)",
   "language": "python",
   "name": "python3"
  },
  "language_info": {
   "codemirror_mode": {
    "name": "ipython",
    "version": 3
   },
   "file_extension": ".py",
   "mimetype": "text/x-python",
   "name": "python",
   "nbconvert_exporter": "python",
   "pygments_lexer": "ipython3",
   "version": "3.9.12"
  }
 },
 "nbformat": 4,
 "nbformat_minor": 5
}
