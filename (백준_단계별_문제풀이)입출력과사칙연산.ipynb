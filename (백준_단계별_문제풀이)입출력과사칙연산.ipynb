{
 "cells": [
  {
   "cell_type": "code",
   "execution_count": 3,
   "id": "16383e9d",
   "metadata": {},
   "outputs": [
    {
     "name": "stdout",
     "output_type": "stream",
     "text": [
      "강한친구 대한육군\n",
      "강한친구 대한육군\n"
     ]
    }
   ],
   "source": [
    "# 2번 We love kriii\n",
    "# 10718 \n",
    "# 두 줄에 걸쳐 \"강한친구 대한육군\"을 한 줄에 한 번씩 출력한다\n",
    "\n",
    "for i in range(0,2):\n",
    "    print(\"강한친구 대한육군\")"
   ]
  },
  {
   "cell_type": "code",
   "execution_count": 8,
   "id": "274e69ea",
   "metadata": {},
   "outputs": [
    {
     "name": "stdout",
     "output_type": "stream",
     "text": [
      "1 2\n",
      "3\n"
     ]
    }
   ],
   "source": [
    "# 3번 A+B\n",
    "# 1000\n",
    "# 문제) 두 정수 A와 B를 입력받은 다음, A+B를 출력하는 프로그램을 작성하시오.\n",
    "# 입력) 첫째 줄에 A와 B가 주어진다. (0 < A, B < 10)\n",
    "# 출력) 첫째 줄에 A+B를 출력한다.\n",
    "\n",
    "A,B=map(int,input().split())\n",
    "print(A+B)"
   ]
  },
  {
   "cell_type": "code",
   "execution_count": 1,
   "id": "792f1c3c",
   "metadata": {},
   "outputs": [
    {
     "name": "stdout",
     "output_type": "stream",
     "text": [
      "3 2\n",
      "1\n"
     ]
    }
   ],
   "source": [
    "# 4번 A-B\n",
    "# 1001\n",
    "# 문제) 두 정수 A와 B를 입력받은 다음, A-B를 출력하는 프로그램을 작성하시오.\n",
    "# 입력) 첫째 줄에 A와 B가 주어진다. (0 < A, B < 10)\n",
    "# 출력) 첫째 줄에 A-B를 출력한다.\n",
    "A,B=map(int,input().split())\n",
    "print(A-B)"
   ]
  },
  {
   "cell_type": "code",
   "execution_count": 10,
   "id": "1c7ebc27",
   "metadata": {},
   "outputs": [
    {
     "name": "stdout",
     "output_type": "stream",
     "text": [
      "1 2\n",
      "2\n"
     ]
    }
   ],
   "source": [
    "# 5번 A×B\n",
    "# 10998\n",
    "# 문제) 두 정수 A와 B를 입력받은 다음, A×B를 출력하는 프로그램을 작성하시오.\n",
    "# 입력) 첫째 줄에 A와 B가 주어진다. (0 < A, B < 10)\n",
    "# 출력) 첫째 줄에 A×B를 출력한다.\n",
    "\n",
    "A,B = map(int,input().split())\n",
    "print(A*B)"
   ]
  },
  {
   "cell_type": "code",
   "execution_count": 12,
   "id": "42ad9ffd",
   "metadata": {},
   "outputs": [
    {
     "name": "stdout",
     "output_type": "stream",
     "text": [
      "1 3\n",
      "0.3333333333333333\n"
     ]
    }
   ],
   "source": [
    "# 6번 A/B\n",
    "# 1008\n",
    "# 문제) 두 정수 A와 B를 입력받은 다음, A/B를 출력하는 프로그램을 작성하시오.\n",
    "# 입력) 첫째 줄에 A와 B가 주어진다. (0 < A, B < 10)\n",
    "# 출력) 첫째 줄에 A/B를 출력한다. 실제 정답과 출력값의 절대오차 또는 상대오차가 10-9 이하이면 정답이다.\n",
    "\n",
    "A,B = map(int,input().split())\n",
    "print(A/B)"
   ]
  },
  {
   "cell_type": "code",
   "execution_count": 15,
   "id": "15e9e56c",
   "metadata": {},
   "outputs": [
    {
     "name": "stdout",
     "output_type": "stream",
     "text": [
      "7 3\n",
      "10\n",
      "4\n",
      "21\n",
      "2\n",
      "1\n"
     ]
    }
   ],
   "source": [
    "# 7번 사칙연산\n",
    "# 10869\n",
    "# 문제) 두 자연수 A와 B가 주어진다. 이때, A+B, A-B, A*B, A/B(몫), A%B(나머지)를 출력하는 프로그램을 작성하시오. \n",
    "# 입력) 두 자연수 A와 B가 주어진다. (1 ≤ A, B ≤ 10,000)\n",
    "# 출력) 첫째 줄에 A+B, 둘째 줄에 A-B, 셋째 줄에 A*B, 넷째 줄에 A/B, 다섯째 줄에 A%B를 출력한다.\n",
    "A,B = map(int,input().split())\n",
    "print(A+B)\n",
    "print(A-B)\n",
    "print(A*B)\n",
    "print(int(A/B))\n",
    "print(A%B)"
   ]
  },
  {
   "cell_type": "code",
   "execution_count": 16,
   "id": "af8b8e8f",
   "metadata": {},
   "outputs": [
    {
     "name": "stdout",
     "output_type": "stream",
     "text": [
      "joonas\n",
      "joonas??!\n"
     ]
    }
   ],
   "source": [
    "# 8번 ??!\n",
    "# 10926\n",
    "# 문제) 준하는 사이트에 회원가입을 하다가 joonas라는 아이디가 이미 존재하는 것을 보고 놀랐다. 준하는 놀람을 ??!로 표현한다. 준하가 가입하려고 하는 사이트에 이미 존재하는 아이디가 주어졌을 때, 놀람을 표현하는 프로그램을 작성하시오.\n",
    "# 입력) 첫째 줄에 준하가 가입하려고 하는 사이트에 이미 존재하는 아이디가 주어진다. 아이디는 알파벳 소문자로만 이루어져 있으며, 길이는 50자를 넘지 않는다.\n",
    "# 출력) 첫째 줄에 준하의 놀람을 출력한다. 놀람은 아이디 뒤에 ??!를 붙여서 나타낸다.\n",
    "\n",
    "a = input()\n",
    "print(a+\"??!\")"
   ]
  },
  {
   "cell_type": "code",
   "execution_count": 5,
   "id": "2fd9d108",
   "metadata": {},
   "outputs": [
    {
     "name": "stdout",
     "output_type": "stream",
     "text": [
      "2541\n",
      "1998\n"
     ]
    }
   ],
   "source": [
    "# 9번 1998년생인 내가 태국에서는 2541년생?!\n",
    "# 18108\n",
    "# 문제) ICPC Bangkok Regional에 참가하기 위해 수완나품 국제공항에 막 도착한 팀 레드시프트 일행은 눈을 믿을 수 없었다. 공항의 대형 스크린에 올해가 2562년이라고 적혀 있던 것이었다. \n",
    "#     - 불교 국가인 태국은 불멸기원(佛滅紀元), 즉 석가모니가 열반한 해를 기준으로 연도를 세는 불기를 사용한다. \n",
    "#     - 반면, 우리나라는 서기 연도를 사용하고 있다. 불기 연도가 주어질 때 이를 서기 연도로 바꿔 주는 프로그램을 작성하시오.\n",
    "# 입력) 서기 연도를 알아보고 싶은 불기 연도 y가 주어진다. (1000 ≤ y ≤ 3000)\n",
    "# 출력) 불기 연도를 서기 연도로 변환한 결과를 출력한다.\n",
    "y=int(input())\n",
    "print(y-543)"
   ]
  },
  {
   "cell_type": "code",
   "execution_count": 8,
   "id": "02188dbf",
   "metadata": {},
   "outputs": [
    {
     "name": "stdout",
     "output_type": "stream",
     "text": [
      "2 1 2 1 2 1\n",
      "-1 0 0 1 0 7\n"
     ]
    }
   ],
   "source": [
    "#10번 킹, 퀸, 룩, 비숍, 나이트, 폰\n",
    "# 3003\n",
    "# 문제) 동혁이는 오래된 창고를 뒤지다가 낡은 체스판과 피스를 발견했다.\n",
    "#       체스판의 먼지를 털어내고 걸레로 닦으니 그럭저럭 쓸만한 체스판이 되었다. \n",
    "#       하지만, 검정색 피스는 모두 있었으나, 흰색 피스는 개수가 올바르지 않았다.\n",
    "#       체스는 총 16개의 피스를 사용하며, 킹 1개, 퀸 1개, 룩 2개, 비숍 2개, 나이트 2개, 폰 8개로 구성되어 있다.\n",
    "#       동혁이가 발견한 흰색 피스의 개수가 주어졌을 때, 몇 개를 더하거나 빼야 올바른 세트가 되는지 구하는 프로그램을 작성하시오.\n",
    "# 입력) 첫째 줄에 동혁이가 찾은 흰색 킹, 퀸, 룩, 비숍, 나이트, 폰의 개수가 주어진다. \n",
    "#       이 값은 0보다 크거나 같고 10보다 작거나 같은 정수이다.\n",
    "# 출력) 첫째 줄에 입력에서 주어진 순서대로 몇 개의 피스를 더하거나 빼야 되는지를 출력한다. \n",
    "#       만약 수가 양수라면 동혁이는 그 개수 만큼 피스를 더해야 하는 것이고, 음수라면 제거해야 하는 것이다.\n",
    "a,b,c,d,e,f= map(int,input().split())\n",
    "print(1-a,1-b,2-c,2-d,2-e,8-f)"
   ]
  },
  {
   "cell_type": "code",
   "execution_count": 11,
   "id": "c251ca64",
   "metadata": {},
   "outputs": [
    {
     "name": "stdout",
     "output_type": "stream",
     "text": [
      "5 8 4\n",
      "1\n",
      "1\n",
      "0\n",
      "0\n"
     ]
    }
   ],
   "source": [
    "# 11번 나머지\n",
    "# 10430\n",
    "# 문제) (A+B)%C는 ((A%C) + (B%C))%C 와 같을까?\n",
    "#       (A×B)%C는 ((A%C) × (B%C))%C 와 같을까?\n",
    "#       세 수 A, B, C가 주어졌을 때, 위의 네 가지 값을 구하는 프로그램을 작성하시오.\n",
    "# 입력) 첫째 줄에 A, B, C가 순서대로 주어진다. (2 ≤ A, B, C ≤ 10000)\n",
    "# 출력) 첫째 줄에 (A+B)%C, 둘째 줄에 ((A%C) + (B%C))%C, 셋째 줄에 (A×B)%C, 넷째 줄에 ((A%C) × (B%C))%C를 출력한다.\n",
    "A,B,C= map(int,input().split())\n",
    "print((A+B)%C)\n",
    "print(((A%C) + (B%C))%C)\n",
    "print((A*B)%C)\n",
    "print(((A%C)*(B%C))%C)"
   ]
  },
  {
   "cell_type": "code",
   "execution_count": 54,
   "id": "b502a7c0",
   "metadata": {},
   "outputs": [
    {
     "name": "stdout",
     "output_type": "stream",
     "text": [
      "472\n",
      "385\n",
      "2360\n",
      "3776\n",
      "1416\n",
      "181720\n"
     ]
    }
   ],
   "source": [
    "# 12번 곱셈\n",
    "# 2588반\n",
    "# 문제) (세 자리 수) × (세 자리 수)는 다음과 같은 과정을 통하여 이루어진다.\n",
    "#       (1)과 (2)위치에 들어갈 세 자리 자연수가 주어질 때 (3), (4), (5), (6)위치에 들어갈 값을 구하는 프로그램을 작성하시오.\n",
    "# 입력) 첫째 줄에 (1)의 위치에 들어갈 세 자리 자연수가, 둘째 줄에 (2)의 위치에 들어갈 세자리 자연수가 주어진다.\n",
    "# 출력) 첫째 줄부터 넷째 줄까지 차례대로 (3), (4), (5), (6)에 들어갈 값을 출력한다.\n",
    "A = int(input())\n",
    "B = int(input())\n",
    "num3 = A*(B%10)\n",
    "num4 = A*((B%100)-(B%10))\n",
    "num5 = A*(B-B%100)\n",
    "print(num3)\n",
    "print(num4//10)\n",
    "print(num5//100)\n",
    "print(num3+num4+num5)"
   ]
  }
 ],
 "metadata": {
  "kernelspec": {
   "display_name": "Python 3 (ipykernel)",
   "language": "python",
   "name": "python3"
  },
  "language_info": {
   "codemirror_mode": {
    "name": "ipython",
    "version": 3
   },
   "file_extension": ".py",
   "mimetype": "text/x-python",
   "name": "python",
   "nbconvert_exporter": "python",
   "pygments_lexer": "ipython3",
   "version": "3.9.12"
  }
 },
 "nbformat": 4,
 "nbformat_minor": 5
}
