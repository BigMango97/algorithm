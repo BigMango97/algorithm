{
 "cells": [
  {
   "cell_type": "code",
   "execution_count": 21,
   "id": "d24438c0",
   "metadata": {},
   "outputs": [
    {
     "name": "stdout",
     "output_type": "stream",
     "text": [
      "999998999\n",
      "999999998\n"
     ]
    }
   ],
   "source": [
    "# 1427번 소트인사이드\n",
    "# 문제) 배열을 정렬하는 것은 쉽다. 수가 주어지면, 그 수의 각 자리수를 내림차순으로 정렬해보자.\n",
    "# 입력) 첫째 줄에 정렬하려고 하는 수 N이 주어진다. N은 1,000,000,000보다 작거나 같은 자연수이다.\n",
    "# 출력) 첫째 줄에 자리수를 내림차순으로 정렬한 수를 출력한다.\n",
    "\n",
    "N=int(input())\n",
    "N_list = list(map(int,str(N)))\n",
    "N_list.sort(reverse=True)\n",
    "N_list=\"\".join(map(str, N_list))\n",
    "print(int(N_list))"
   ]
  }
 ],
 "metadata": {
  "kernelspec": {
   "display_name": "Python 3 (ipykernel)",
   "language": "python",
   "name": "python3"
  },
  "language_info": {
   "codemirror_mode": {
    "name": "ipython",
    "version": 3
   },
   "file_extension": ".py",
   "mimetype": "text/x-python",
   "name": "python",
   "nbconvert_exporter": "python",
   "pygments_lexer": "ipython3",
   "version": "3.9.12"
  }
 },
 "nbformat": 4,
 "nbformat_minor": 5
}
